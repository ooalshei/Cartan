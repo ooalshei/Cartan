{
 "cells": [
  {
   "cell_type": "code",
   "execution_count": 1,
   "id": "initial_id",
   "metadata": {
    "collapsed": true,
    "ExecuteTime": {
     "end_time": "2023-12-21T21:06:52.674243971Z",
     "start_time": "2023-12-21T21:06:52.542070631Z"
    }
   },
   "outputs": [
    {
     "name": "stdout",
     "output_type": "stream",
     "text": [
      "/home/omar/PycharmProjects/Cartan\n"
     ]
    }
   ],
   "source": [
    "%cd /home/omar/PycharmProjects/Cartan\n",
    "from src.cartan.algebras import IterativeCartan\n",
    "from src.cartan.optimizers import iterative_optimizer\n",
    "from src.cartan.pauli_operations import print_letters"
   ]
  },
  {
   "cell_type": "markdown",
   "source": [
    "UCC"
   ],
   "metadata": {
    "collapsed": false
   },
   "id": "ad9146f0e1cc6af"
  },
  {
   "cell_type": "code",
   "execution_count": 2,
   "outputs": [
    {
     "name": "stdout",
     "output_type": "stream",
     "text": [
      "Hamiltonian strings\n",
      "['XXXZZY', 'YYXZZY', 'XYYZZY', 'YXYZZY', 'XYXZZX', 'YXXZZX', 'XXYZZX', 'YYYZZX', 'XX-XY-', 'YY-XY-', 'XY-XX-', 'YX-XX-', 'XY-YY-', 'YX-YY-', 'XX-YX-', 'YY-YX-']\n",
      "\n",
      "Hamiltonian dictionary\n",
      "{'XXXZZY': 1, 'YYXZZY': -1, 'XYYZZY': 1, 'YXYZZY': 1, 'XYXZZX': -1, 'YXXZZX': -1, 'XXYZZX': 1, 'YYYZZX': -1, 'XX-XY-': -1, 'YY-XY-': 1, 'XY-XX-': 1, 'YX-XX-': 1, 'XY-YY-': -1, 'YX-YY-': -1, 'XX-YX-': -1, 'YY-YX-': 1}\n",
      "\n",
      "contradiction: False. This is a Cartan Hamiltonian.\n",
      "\n",
      "k algebra\n",
      "['-ZXXYX', 'Z-XXYX', '-ZYXYY', 'Z-YXYY', '-ZYXXX', 'Z-YXXX', '-ZXXXY', 'Z-XXXY', '-ZYYYX', 'Z-YYYX', '-ZXYYY', 'Z-XYYY', '-ZXYXX', 'Z-XYXX', '-ZYYXY', 'Z-YYXY']\n",
      "\n",
      "subalgebra\n",
      "['XX-XY-', 'XX-YX-', 'XY-XX-', 'XY-YY-', 'YX-XX-', 'YX-YY-', 'YY-XY-', 'YY-YX-', 'XXZXYZ', 'XXZYXZ', 'XYZXXZ', 'XYZYYZ', 'YXZXXZ', 'YXZYYZ', 'YYZXYZ', 'YYZYXZ']\n",
      "\n",
      "Abelian algebra\n",
      "['XX-XY-', 'XX-YX-', 'XY-XX-', 'YX-XX-', 'XXZXYZ']\n",
      "\n",
      "subspace 0\n",
      "['-ZXXYX', 'Z-XXYX', '-ZYXYY', 'Z-YXYY', '-ZXYXX', 'Z-XYXX', '-ZYYXY', 'Z-YYXY']\n",
      "subspace 1\n",
      "subspace 2\n",
      "['-ZYXXX', 'Z-YXXX', '-ZXXXY', 'Z-XXXY', '-ZYYYX', 'Z-YYYX', '-ZXYYY', 'Z-XYYY']\n",
      "subspace 3\n",
      "subspace 4\n"
     ]
    }
   ],
   "source": [
    "N = 6\n",
    "model = \"UCC\"\n",
    "parameters = None\n",
    "\n",
    "UCC_object = IterativeCartan(N, model)\n",
    "hamiltonian_strings, hamiltonian_coefficients = UCC_object.builder(parameters)\n",
    "print(\"Hamiltonian strings\")\n",
    "print_letters(string_list=hamiltonian_strings)\n",
    "print()\n",
    "hamiltonian_dict = dict(zip(hamiltonian_strings, hamiltonian_coefficients))\n",
    "print(\"Hamiltonian dictionary\")\n",
    "print_letters(sentence=hamiltonian_dict)\n",
    "print()\n",
    "decomposition_dict = UCC_object.decomposition(hamiltonian_list=hamiltonian_strings)\n",
    "contradiction = decomposition_dict[\"contradiction\"]\n",
    "print(f\"contradiction: {contradiction}. This is a Cartan Hamiltonian.\")\n",
    "print()\n",
    "k_strings = decomposition_dict[\"k\"]\n",
    "print(\"k algebra\")\n",
    "print_letters(string_list=k_strings)\n",
    "print()\n",
    "subalgebra = decomposition_dict[\"h\"]\n",
    "print(\"subalgebra\")\n",
    "print_letters(string_list=subalgebra)\n",
    "print()\n",
    "abelian = UCC_object.abelian_subalgebra(subalgebra)\n",
    "print(\"Abelian algebra\")\n",
    "print_letters(string_list=abelian)\n",
    "print()\n",
    "subspace = UCC_object.symmetric_subspace(k_strings, abelian)\n",
    "for i in range(len(subspace)):\n",
    "    print(f\"subspace {i}\")\n",
    "    print_letters(string_list=subspace[i])"
   ],
   "metadata": {
    "collapsed": false,
    "ExecuteTime": {
     "end_time": "2023-12-21T21:06:52.674594250Z",
     "start_time": "2023-12-21T21:06:52.674174761Z"
    }
   },
   "id": "be19ef014bb24e08"
  },
  {
   "cell_type": "code",
   "execution_count": 3,
   "outputs": [
    {
     "name": "stdout",
     "output_type": "stream",
     "text": [
      "Transformed Hamiltonian\n",
      "{'XXXZZY': (5.390314528064266e-08+0j), 'YX-XX-': (-1.7071067811859855+0j), 'XY-XX-': (-1.7071067811859855+0j), 'YYXZZY': (-5.390314528064266e-08+0j), 'YXZXXZ': (-0.707106781186029+0j), 'XXYZZX': (3.4830782558170625e-07+0j), 'YYYZZX': (-3.4830782558170625e-07+0j), 'XYZXXZ': (-0.707106781186029+0j), 'YX-YY-': (0.7071067811867975+0j), 'XXX--Y': (-1.2203453457204638e-06+0j), 'YYX--Y': (1.2203453457204638e-06+0j), 'XY-YY-': (0.7071067811867975+0j), 'XXY--X': (-9.259406653361335e-07+0j), 'YXZYYZ': (-0.2928932188131593+0j), 'XYZYYZ': (-0.2928932188131593+0j), 'YYY--X': (9.259406653361335e-07+0j), 'XYYZZY': (-1.4239943688654222e-06+0j), 'YY-XY-': (1.7071067811858915+0j), 'XX-XY-': (-1.7071067811858915+0j), 'YXYZZY': (-1.4239943688654222e-06+0j), 'YYZXYZ': (0.7071067811865639+0j), 'XYXZZX': (2.6391354435162384e-07+0j), 'YXXZZX': (2.6391354435162384e-07+0j), 'XXZXYZ': (-0.7071067811865639+0j), 'YY-YX-': (0.7071067811859955+0j), 'XYY--Y': (-9.671274186495715e-07+0j), 'YXY--Y': (-9.671274186495715e-07+0j), 'XX-YX-': (-0.7071067811859955+0j), 'XYX--X': (-1.9295340603076028e-07+0j), 'YYZYXZ': (-0.29289321881333197+0j), 'XXZYXZ': (0.29289321881333197+0j), 'YXX--X': (-1.9295340603076028e-07+0j)}\n",
      "\n",
      "Abelian Hamiltonian\n",
      "{'YX-XX-': (-1.7071067811859855+0j), 'XY-XX-': (-1.7071067811859855+0j), 'YXZXXZ': (-0.707106781186029+0j), 'XYZXXZ': (-0.707106781186029+0j), 'YX-YY-': (0.7071067811867975+0j), 'XY-YY-': (0.7071067811867975+0j), 'YXZYYZ': (-0.2928932188131593+0j), 'XYZYYZ': (-0.2928932188131593+0j), 'YY-XY-': (1.7071067811858915+0j), 'XX-XY-': (-1.7071067811858915+0j), 'YYZXYZ': (0.7071067811865639+0j), 'XXZXYZ': (-0.7071067811865639+0j), 'YY-YX-': (0.7071067811859955+0j), 'XX-YX-': (-0.7071067811859955+0j), 'YYZYXZ': (-0.29289321881333197+0j), 'XXZYXZ': (0.29289321881333197+0j)}\n"
     ]
    }
   ],
   "source": [
    "while [] in subspace:\n",
    "    index = subspace.index([])\n",
    "    subspace.pop(index)\n",
    "    abelian.pop(index)\n",
    "\n",
    "angles, generators, abelian_hamiltonian , test_hamiltonian= iterative_optimizer(hamiltonian_dict=hamiltonian_dict,\n",
    "                                                                                subspace_strings=subspace,\n",
    "                                                                                abelian_strings=abelian,\n",
    "                                                                                method=\"BFGS\",\n",
    "                                                                                tol=1e-6)\n",
    "print(\"Transformed Hamiltonian\")\n",
    "print_letters(sentence=test_hamiltonian)\n",
    "print()\n",
    "print(\"Abelian Hamiltonian\")\n",
    "print_letters(sentence=abelian_hamiltonian)\n",
    "print()"
   ],
   "metadata": {
    "collapsed": false,
    "ExecuteTime": {
     "end_time": "2023-12-21T21:06:53.217890211Z",
     "start_time": "2023-12-21T21:06:52.674294930Z"
    }
   },
   "id": "351aee5abf619055"
  },
  {
   "cell_type": "code",
   "execution_count": 4,
   "outputs": [
    {
     "name": "stderr",
     "output_type": "stream",
     "text": [
      "/home/omar/anaconda3/lib/python3.11/site-packages/scipy/optimize/_minpack_py.py:1010: OptimizeWarning: Covariance of the parameters could not be estimated\n",
      "  warnings.warn('Covariance of the parameters could not be estimated',\n"
     ]
    },
    {
     "name": "stdout",
     "output_type": "stream",
     "text": [
      "Total iterations: 6. Relative error: 0.0\n",
      "Total iterations: 6. Relative error: 0.0\n",
      "Transformed Hamiltonian\n",
      "{'XXXZZY': (4.9437121063533596e-12+0j), 'YX-XX-': (-1.7071067811863787+0j), 'XY-XX-': (-1.7071067811863787+0j), 'YYXZZY': (-4.9437121063533596e-12+0j), 'YXZXXZ': (-0.7071067811864568+0j), 'XXYZZX': (-3.949268969349884e-07+0j), 'YYYZZX': (3.949268969349884e-07+0j), 'XYZXXZ': (-0.7071067811864568+0j), 'YX-YY-': (0.7071067811866094+0j), 'XXX--Y': (6.792228864349603e-07+0j), 'YYX--Y': (-6.792228864349603e-07+0j), 'XY-YY-': (0.7071067811866094+0j), 'XXY--X': (2.842910457323544e-07+0j), 'YXZYYZ': (-0.2928932188133125+0j), 'XYZYYZ': (-0.2928932188133125+0j), 'YYY--X': (-2.842910457323544e-07+0j), 'XYYZZY': (1.4526935210312786e-11+0j), 'YY-XY-': (1.707106781186365+0j), 'XX-XY-': (-1.707106781186365+0j), 'YXYZZY': (1.4526935210312786e-11+0j), 'YYZXYZ': (0.7071067811863755+0j), 'XYXZZX': (-1.4832464781400212e-07+0j), 'YXXZZX': (-1.4832464781400212e-07+0j), 'XXZXYZ': (-0.7071067811863755+0j), 'YY-YX-': (0.7071067811866114+0j), 'XYY--Y': (-7.025042424169126e-07+0j), 'YXY--Y': (-7.025042424169126e-07+0j), 'XX-YX-': (-0.7071067811866114+0j), 'XYX--X': (5.541941215381208e-07+0j), 'YYZYXZ': (-0.2928932188133779+0j), 'XXZYXZ': (0.2928932188133779+0j), 'YXX--X': (5.541941215381208e-07+0j)}\n",
      "\n",
      "Abelian Hamiltonian\n",
      "{'YX-XX-': (-1.7071067811863787+0j), 'XY-XX-': (-1.7071067811863787+0j), 'YXZXXZ': (-0.7071067811864568+0j), 'XYZXXZ': (-0.7071067811864568+0j), 'YX-YY-': (0.7071067811866094+0j), 'XY-YY-': (0.7071067811866094+0j), 'YXZYYZ': (-0.2928932188133125+0j), 'XYZYYZ': (-0.2928932188133125+0j), 'YY-XY-': (1.707106781186365+0j), 'XX-XY-': (-1.707106781186365+0j), 'YYZXYZ': (0.7071067811863755+0j), 'XXZXYZ': (-0.7071067811863755+0j), 'YY-YX-': (0.7071067811866114+0j), 'XX-YX-': (-0.7071067811866114+0j), 'YYZYXZ': (-0.2928932188133779+0j), 'XXZYXZ': (0.2928932188133779+0j)}\n"
     ]
    }
   ],
   "source": [
    "angles, generators, abelian_hamiltonian , test_hamiltonian= iterative_optimizer(hamiltonian_dict=hamiltonian_dict,\n",
    "                                                                                subspace_strings=subspace,\n",
    "                                                                                abelian_strings=abelian,\n",
    "                                                                                method=\"roto\",\n",
    "                                                                                tol=1e-6)\n",
    "print(\"Transformed Hamiltonian\")\n",
    "print_letters(sentence=test_hamiltonian)\n",
    "print()\n",
    "print(\"Abelian Hamiltonian\")\n",
    "print_letters(sentence=abelian_hamiltonian)\n",
    "print()"
   ],
   "metadata": {
    "collapsed": false,
    "ExecuteTime": {
     "end_time": "2023-12-21T21:06:53.762348544Z",
     "start_time": "2023-12-21T21:06:53.216432543Z"
    }
   },
   "id": "49ab50a1c3460c94"
  },
  {
   "cell_type": "markdown",
   "source": [
    "Fermions on a ring in magnetic field"
   ],
   "metadata": {
    "collapsed": false
   },
   "id": "e65bfa36cd274a49"
  },
  {
   "cell_type": "code",
   "execution_count": 5,
   "outputs": [
    {
     "name": "stdout",
     "output_type": "stream",
     "text": [
      "Hamiltonian strings\n",
      "['XX---', 'YY---', '-XX--', '-YY--', '--XX-', '--YY-', '---XX', '---YY', 'XZZZX', 'YZZZY', 'XZZZY', 'YZZZX']\n",
      "\n",
      "Hamiltonian dictionary\n",
      "{'XX---': -0.5, 'YY---': -0.5, '-XX--': -0.5, '-YY--': -0.5, '--XX-': -0.5, '--YY-': -0.5, '---XX': -0.5, '---YY': -0.5, 'XZZZX': -0.3535533905932738, 'YZZZY': -0.3535533905932738, 'XZZZY': -0.35355339059327373, 'YZZZX': 0.35355339059327373}\n",
      "\n",
      "contradiction: True. This is a non-Cartan Hamiltonian.\n",
      "\n",
      "DLA\n",
      "['XX---', 'YY---', '-XX--', '-YY--', '--XX-', '--YY-', '---XX', '---YY', 'XZZZX', 'YZZZY', 'XZZZY', 'YZZZX', '----Z', 'Z----', 'YZZY-', '-XZZX', 'XZZX-', '-YZZY', 'YZZX-', '-XZZY', 'XZZY-', '-YZZX', '--XZY', '--YZX', '-XZY-', '-YZX-', 'XZY--', 'YZX--', '--YX-', 'XZX--', '--YZY', '--XY-', 'YZY--', '--XZX', '---YX', 'YX---', 'XY---', '---XY', '-YX--', '-XY--', '-Z---', '-YZY-', '---Z-', '-XZX-', '--Z--']\n",
      "\n",
      "subalgebra\n",
      "['----Z', '---Z-', '--Z--', '-Z---', 'Z----']\n",
      "\n",
      "Abelian algebra\n",
      "['----Z', '---Z-', '--Z--', '-Z---', 'Z----']\n",
      "\n",
      "subspace 0\n",
      "['---XX', '---YY', 'XZZZX', 'YZZZY', 'XZZZY', 'YZZZX', '-XZZX', '-YZZY', '-XZZY', '-YZZX', '--XZY', '--YZX', '--YZY', '--XZX', '---YX', '---XY']\n",
      "subspace 1\n",
      "['--XX-', '--YY-', 'YZZY-', 'XZZX-', 'YZZX-', 'XZZY-', '-XZY-', '-YZX-', '--YX-', '--XY-', '-YZY-', '-XZX-']\n",
      "subspace 2\n",
      "['-XX--', '-YY--', 'XZY--', 'YZX--', 'XZX--', 'YZY--', '-YX--', '-XY--']\n",
      "subspace 3\n",
      "['XX---', 'YY---', 'YX---', 'XY---']\n",
      "subspace 4\n"
     ]
    }
   ],
   "source": [
    "N = 5\n",
    "model = \"fermion_ring\"\n",
    "parameters = None\n",
    "\n",
    "fermion_object = IterativeCartan(N, model)\n",
    "hamiltonian_strings, hamiltonian_coefficients = fermion_object.builder(parameters)\n",
    "print(\"Hamiltonian strings\")\n",
    "print_letters(string_list=hamiltonian_strings)\n",
    "print()\n",
    "hamiltonian_dict = dict(zip(hamiltonian_strings, hamiltonian_coefficients))\n",
    "print(\"Hamiltonian dictionary\")\n",
    "print_letters(sentence=hamiltonian_dict)\n",
    "print()\n",
    "\n",
    "decomposition_dict = fermion_object.decomposition(hamiltonian_list=hamiltonian_strings)\n",
    "contradiction = decomposition_dict[\"contradiction\"]\n",
    "print(f\"contradiction: {contradiction}. This is a non-Cartan Hamiltonian.\")\n",
    "print()\n",
    "g_strings = decomposition_dict[\"DLA\"]\n",
    "print(\"DLA\")\n",
    "print_letters(string_list=g_strings)\n",
    "print()\n",
    "subalgebra = decomposition_dict[\"h\"]\n",
    "print(\"subalgebra\")\n",
    "print_letters(string_list=subalgebra)\n",
    "print()\n",
    "abelian = fermion_object.abelian_subalgebra(subalgebra)\n",
    "print(\"Abelian algebra\")\n",
    "print_letters(string_list=abelian)\n",
    "print()\n",
    "subspace = fermion_object.symmetric_subspace(g_strings, abelian)\n",
    "for i in range(len(subspace)):\n",
    "    print(f\"subspace {i}\")\n",
    "    print_letters(string_list=subspace[i])"
   ],
   "metadata": {
    "collapsed": false,
    "ExecuteTime": {
     "end_time": "2023-12-21T21:06:53.770827528Z",
     "start_time": "2023-12-21T21:06:53.759870370Z"
    }
   },
   "id": "612747e3961cefa8"
  },
  {
   "cell_type": "code",
   "execution_count": 6,
   "outputs": [
    {
     "name": "stdout",
     "output_type": "stream",
     "text": [
      "Transformed Hamiltonian\n",
      "{'XX---': (-8.244013217084678e-07+0j), '-Z---': (-0.4539904997352238+0j), 'Z----': (0.15643446505958836+0j), 'YY---': (-3.6151711402254705e-08+0j), 'XZX--': (2.06733488899978e-06+0j), '-XX--': (-1.307266174621086e-06+0j), '-YX--': (-1.6529543678637733e-07+0j), 'YZX--': (-1.4636080422598845e-06+0j), '-YY--': (7.579093642919608e-07+0j), 'YZY--': (-8.578796736010935e-08+0j), 'XZY--': (-7.34015671298318e-07+0j), '-XY--': (-7.373599534739507e-07+0j), 'YX---': (7.845932509936704e-07+0j), 'XY---': (7.776973264816966e-07+0j), '--Z--': (-0.7071067811858828+0j), 'XZZY-': (-4.811844357426358e-07+0j), '-XZY-': (3.3911003211966715e-07+0j), '-YZY-': (2.3288617648790108e-07+0j), 'YZZY-': (-7.863734464356447e-07+0j), '--YY-': (4.1022690622427525e-07+0j), '--XY-': (-8.986966860595424e-07+0j), 'XZZX-': (5.018814228413655e-07+0j), '-XZX-': (1.8295751852211668e-07+0j), '-YZX-': (-4.152848116776815e-07+0j), 'YZZX-': (-2.3374178954157418e-07+0j), '--YX-': (-9.511644227195727e-07+0j), '--XX-': (-5.039692838433061e-07+0j), '---Z-': (-0.8910065241865016+0j), 'XZZZX': (3.2584459106219343e-06+0j), '-XZZX': (1.0028956612290932e-06+0j), '-YZZX': (5.35161754843682e-07+0j), 'YZZZX': (-8.39522810044187e-07+0j), '--YZX': (8.036648366682034e-07+0j), '--XZX': (4.393992975099142e-07+0j), '---XX': (6.663839235621381e-07+0j), '---YX': (3.7932945824355007e-07+0j), 'XZZZY': (6.550668476435905e-07+0j), '-XZZY': (1.1192769702585857e-06+0j), '-YZZY': (-1.889888391844346e-06+0j), 'YZZZY': (-3.5328716620161296e-06+0j), '--YZY': (8.143030131429188e-07+0j), '--XZY': (-1.803548517189318e-06+0j), '---XY': (5.500432470733453e-07+0j), '---YY': (-1.0901154520894269e-06+0j), '----Z': (-0.9876883405696073+0j)}\n",
      "\n",
      "Abelian Hamiltonian\n",
      "{'-Z---': (-0.4539904997352238+0j), 'Z----': (0.15643446505958836+0j), '--Z--': (-0.7071067811858828+0j), '---Z-': (-0.8910065241865016+0j), '----Z': (-0.9876883405696073+0j)}\n"
     ]
    }
   ],
   "source": [
    "while [] in subspace:\n",
    "    index = subspace.index([])\n",
    "    subspace.pop(index)\n",
    "    abelian.pop(index)\n",
    "\n",
    "angles, generators, abelian_hamiltonian , test_hamiltonian= iterative_optimizer(hamiltonian_dict=hamiltonian_dict,\n",
    "                                                                                subspace_strings=subspace,\n",
    "                                                                                abelian_strings=abelian,\n",
    "                                                                                method=\"BFGS\",\n",
    "                                                                                tol=1e-6)\n",
    "print(\"Transformed Hamiltonian\")\n",
    "print_letters(sentence=test_hamiltonian)\n",
    "print()\n",
    "print(\"Abelian Hamiltonian\")\n",
    "print_letters(sentence=abelian_hamiltonian)\n",
    "print()"
   ],
   "metadata": {
    "collapsed": false,
    "ExecuteTime": {
     "end_time": "2023-12-21T21:07:03.841261882Z",
     "start_time": "2023-12-21T21:06:53.770992833Z"
    }
   },
   "id": "1ff0d42de0bfbd19"
  },
  {
   "cell_type": "code",
   "execution_count": 7,
   "outputs": [
    {
     "name": "stdout",
     "output_type": "stream",
     "text": [
      "Iteration 50. Relative error: 3.2819025869028403e-06\n",
      "Iteration 100. Relative error: 1.7760186857108833e-06\n",
      "Iteration 150. Relative error: 1.7760117939958534e-06\n",
      "Iteration 200. Relative error: 1.7760117942707886e-06\n",
      "Iteration 250. Relative error: 1.7760117941939509e-06\n",
      "Iteration 300. Relative error: 1.7760117941763436e-06\n",
      "Iteration 350. Relative error: 1.7760117940586856e-06\n",
      "Iteration 400. Relative error: 1.776011794091903e-06\n",
      "Iteration 450. Relative error: 1.776011794227968e-06\n",
      "Iteration 500. Relative error: 1.776011794201156e-06\n",
      "Total iterations: 500. Relative error: 1.776011794201156e-06\n",
      "Iteration 50. Relative error: 3.342740393412045e-05\n",
      "Total iterations: 59. Relative error: 7.411561897564995e-07\n",
      "Iteration 50. Relative error: 0.08285960591465594\n",
      "Iteration 100. Relative error: 0.012191047543549308\n",
      "Iteration 150. Relative error: 0.003793703095194674\n",
      "Iteration 200. Relative error: 0.0011088519135525015\n",
      "Iteration 250. Relative error: 0.0003253165453359024\n",
      "Iteration 300. Relative error: 9.552952585210382e-05\n",
      "Iteration 350. Relative error: 2.804758105770878e-05\n",
      "Iteration 400. Relative error: 8.231920592874851e-06\n",
      "Iteration 450. Relative error: 2.4070286280922958e-06\n",
      "Total iterations: 486. Relative error: 9.961765185397152e-07\n",
      "Total iterations: 6. Relative error: 7.974289526782217e-07\n",
      "Transformed Hamiltonian\n",
      "{'XX---': (-1.6623716292407664e-12+0j), '-Z---': (-0.45399049974090144+0j), 'Z----': (0.156434465041198+0j), 'YY---': (-1.2608458813088974e-06+0j), 'XZX--': (8.10535267259119e-08+0j), '-XX--': (-1.038376642536724e-06+0j), '-YX--': (5.4594752920630244e-08+0j), 'YZX--': (-3.9505948783761313e-07+0j), '-YY--': (-1.0387644245484844e-06+0j), 'YZY--': (-1.1313726822351084e-07+0j), 'XZY--': (-3.6372111124626624e-07+0j), '-XY--': (-1.9663098846609708e-07+0j), 'YX---': (-4.4519553483307606e-07+0j), 'XY---': (-5.2445949250135016e-09+0j), '--Z--': (-0.7071067811892517+0j), 'XZZY-': (8.424461904650602e-08+0j), '-XZY-': (-7.400570290725122e-07+0j), '-YZY-': (-4.6685712366025364e-07+0j), 'YZZY-': (-1.4399544327744328e-08+0j), '--YY-': (1.216547100615684e-06+0j), '--XY-': (-1.9790588860394094e-07+0j), 'XZZX-': (8.573498288723371e-08+0j), '-XZX-': (2.6656058526315517e-07+0j), '-YZX-': (-9.392782630075117e-07+0j), 'YZZX-': (-3.370011211044566e-07+0j), '--YX-': (2.672499345681285e-07+0j), '--XX-': (1.0407877830837585e-06+0j), '---Z-': (-0.8910065241829132+0j), 'XZZZX': (-1.4240366270328295e-06+0j), '-XZZX': (1.0187952918252588e-06+0j), '-YZZX': (-8.515370944771699e-08+0j), 'YZZZX': (-1.765841697632303e-07+0j), '--YZX': (1.7485178887652243e-06+0j), '--XZX': (-5.878797697185375e-07+0j), '---XX': (-5.549816718228641e-07+0j), '---YX': (-3.3814664989188177e-07+0j), 'XZZZY': (-9.489772846380959e-08+0j), '-XZZY': (4.928069178171167e-07+0j), '-YZZY': (-5.03320631808637e-07+0j), 'YZZZY': (-1.7454063657455955e-07+0j), '--YZY': (6.545236710460242e-07+0j), '--XZY': (6.154476195678531e-07+0j), '---XY': (5.948064616798009e-07+0j), '---YY': (1.9079488654094358e-07+0j), '----Z': (-0.9876883405884983+0j)}\n",
      "\n",
      "Abelian Hamiltonian\n",
      "{'-Z---': (-0.45399049974090144+0j), 'Z----': (0.156434465041198+0j), '--Z--': (-0.7071067811892517+0j), '---Z-': (-0.8910065241829132+0j), '----Z': (-0.9876883405884983+0j)}\n"
     ]
    }
   ],
   "source": [
    "angles, generators, abelian_hamiltonian , test_hamiltonian= iterative_optimizer(hamiltonian_dict=hamiltonian_dict,\n",
    "                                                                                subspace_strings=subspace,\n",
    "                                                                                abelian_strings=abelian,\n",
    "                                                                                method=\"roto\",\n",
    "                                                                                tol=1e-6,\n",
    "                                                                                iterations=500)\n",
    "print(\"Transformed Hamiltonian\")\n",
    "print_letters(sentence=test_hamiltonian)\n",
    "print()\n",
    "print(\"Abelian Hamiltonian\")\n",
    "print_letters(sentence=abelian_hamiltonian)\n",
    "print()"
   ],
   "metadata": {
    "collapsed": false,
    "ExecuteTime": {
     "end_time": "2023-12-21T21:09:12.874694404Z",
     "start_time": "2023-12-21T21:07:03.848909591Z"
    }
   },
   "id": "5e9d7a7637118ebc"
  },
  {
   "cell_type": "code",
   "execution_count": 7,
   "outputs": [],
   "source": [],
   "metadata": {
    "collapsed": false,
    "ExecuteTime": {
     "end_time": "2023-12-21T21:09:12.874941772Z",
     "start_time": "2023-12-21T21:09:12.872240618Z"
    }
   },
   "id": "64946cadb4734682"
  }
 ],
 "metadata": {
  "kernelspec": {
   "display_name": "Python 3",
   "language": "python",
   "name": "python3"
  },
  "language_info": {
   "codemirror_mode": {
    "name": "ipython",
    "version": 2
   },
   "file_extension": ".py",
   "mimetype": "text/x-python",
   "name": "python",
   "nbconvert_exporter": "python",
   "pygments_lexer": "ipython2",
   "version": "2.7.6"
  }
 },
 "nbformat": 4,
 "nbformat_minor": 5
}
