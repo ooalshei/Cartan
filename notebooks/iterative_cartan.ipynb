{
 "cells": [
  {
   "cell_type": "code",
   "execution_count": 1,
   "id": "initial_id",
   "metadata": {
    "collapsed": true,
    "ExecuteTime": {
     "end_time": "2023-12-21T07:24:41.819056567Z",
     "start_time": "2023-12-21T07:24:41.761939783Z"
    }
   },
   "outputs": [
    {
     "name": "stdout",
     "output_type": "stream",
     "text": [
      "/home/omar/PycharmProjects/Cartan\n"
     ]
    }
   ],
   "source": [
    "%cd /home/omar/PycharmProjects/Cartan\n",
    "from src.cartan.algebras import IterativeCartan\n",
    "from src.cartan.optimizers import iterative_optimizer\n",
    "from src.cartan.pauli_operations import print_letters"
   ]
  },
  {
   "cell_type": "code",
   "execution_count": 2,
   "outputs": [
    {
     "name": "stdout",
     "output_type": "stream",
     "text": [
      "Hamiltonian strings\n",
      "['XXXZZY', 'YYXZZY', 'XYYZZY', 'YXYZZY', 'XYXZZX', 'YXXZZX', 'XXYZZX', 'YYYZZX', 'XX-XY-', 'YY-XY-', 'XY-XX-', 'YX-XX-', 'XY-YY-', 'YX-YY-', 'XX-YX-', 'YY-YX-']\n",
      "\n",
      "Hamiltonian dictionary\n",
      "{'XXXZZY': 1, 'YYXZZY': -1, 'XYYZZY': 1, 'YXYZZY': 1, 'XYXZZX': -1, 'YXXZZX': -1, 'XXYZZX': 1, 'YYYZZX': -1, 'XX-XY-': -1, 'YY-XY-': 1, 'XY-XX-': 1, 'YX-XX-': 1, 'XY-YY-': -1, 'YX-YY-': -1, 'XX-YX-': -1, 'YY-YX-': 1}\n",
      "\n",
      "contradiction: False. This is a Cartan Hamiltonian.\n",
      "\n",
      "k algebra\n",
      "['-ZXXYX', 'Z-XXYX', '-ZYXYY', 'Z-YXYY', '-ZYXXX', 'Z-YXXX', '-ZXXXY', 'Z-XXXY', '-ZYYYX', 'Z-YYYX', '-ZXYYY', 'Z-XYYY', '-ZXYXX', 'Z-XYXX', '-ZYYXY', 'Z-YYXY']\n",
      "\n",
      "subalgebra\n",
      "['XX-XY-', 'XX-YX-', 'XY-XX-', 'XY-YY-', 'YX-XX-', 'YX-YY-', 'YY-XY-', 'YY-YX-', 'XXZXYZ', 'XXZYXZ', 'XYZXXZ', 'XYZYYZ', 'YXZXXZ', 'YXZYYZ', 'YYZXYZ', 'YYZYXZ']\n",
      "\n",
      "Abelian algebra\n",
      "['XX-XY-', 'XX-YX-', 'XY-XX-', 'YX-XX-', 'XXZXYZ']\n",
      "\n",
      "subspace 0\n",
      "['-ZXXYX', 'Z-XXYX', '-ZYXYY', 'Z-YXYY', '-ZXYXX', 'Z-XYXX', '-ZYYXY', 'Z-YYXY']\n",
      "subspace 1\n",
      "subspace 2\n",
      "['-ZYXXX', 'Z-YXXX', '-ZXXXY', 'Z-XXXY', '-ZYYYX', 'Z-YYYX', '-ZXYYY', 'Z-XYYY']\n",
      "subspace 3\n",
      "subspace 4\n"
     ]
    }
   ],
   "source": [
    "N = 6\n",
    "model = \"UCC\"\n",
    "parameters = None\n",
    "\n",
    "UCC_object = IterativeCartan(N, model)\n",
    "hamiltonian_strings, hamiltonian_coefficients = UCC_object.builder(parameters)\n",
    "print(\"Hamiltonian strings\")\n",
    "print_letters(string_list=hamiltonian_strings)\n",
    "print()\n",
    "hamiltonian_dict = dict(zip(hamiltonian_strings, hamiltonian_coefficients))\n",
    "print(\"Hamiltonian dictionary\")\n",
    "print_letters(sentence=hamiltonian_dict)\n",
    "print()\n",
    "decomposition_dict = UCC_object.decomposition(hamiltonian_list=hamiltonian_strings)\n",
    "contradiction = decomposition_dict[\"contradiction\"]\n",
    "print(f\"contradiction: {contradiction}. This is a Cartan Hamiltonian.\")\n",
    "print()\n",
    "k_strings = decomposition_dict[\"k\"]\n",
    "print(\"k algebra\")\n",
    "print_letters(string_list=k_strings)\n",
    "print()\n",
    "subalgebra = decomposition_dict[\"h\"]\n",
    "print(\"subalgebra\")\n",
    "print_letters(string_list=subalgebra)\n",
    "print()\n",
    "abelian = UCC_object.abelian_subalgebra(subalgebra)\n",
    "print(\"Abelian algebra\")\n",
    "print_letters(string_list=abelian)\n",
    "print()\n",
    "subspace = UCC_object.symmetric_subspace(k_strings, abelian)\n",
    "for i in range(len(subspace)):\n",
    "    print(f\"subspace {i}\")\n",
    "    print_letters(string_list=subspace[i])"
   ],
   "metadata": {
    "collapsed": false,
    "ExecuteTime": {
     "end_time": "2023-12-21T07:24:41.830881078Z",
     "start_time": "2023-12-21T07:24:41.821401271Z"
    }
   },
   "id": "be19ef014bb24e08"
  },
  {
   "cell_type": "code",
   "execution_count": 3,
   "outputs": [
    {
     "name": "stdout",
     "output_type": "stream",
     "text": [
      "Abelian Hamiltonian\n",
      "{'YX-XX-': (-1.7071067811858742+0j), 'XY-XX-': (-1.7071067811858742+0j), 'YXZXXZ': (-0.70710678118619+0j), 'XYZXXZ': (-0.70710678118619+0j), 'YX-YY-': (0.7071067811868772+0j), 'XY-YY-': (0.7071067811868772+0j), 'YXZYYZ': (-0.29289321881280694+0j), 'XYZYYZ': (-0.29289321881280694+0j), 'YY-XY-': (1.7071067811865466+0j), 'XX-XY-': (-1.7071067811865466+0j), 'YYZXYZ': (0.7071067811865465+0j), 'XXZXYZ': (-0.7071067811865465+0j), 'YY-YX-': (0.7071067811865485+0j), 'XX-YX-': (-0.7071067811865485+0j), 'YYZYXZ': (-0.2928932188134515+0j), 'XXZYXZ': (0.2928932188134515+0j)}\n"
     ]
    }
   ],
   "source": [
    "while [] in subspace:\n",
    "    index = subspace.index([])\n",
    "    subspace.pop(index)\n",
    "    abelian.pop(index)\n",
    "\n",
    "angles, generators, abelian_hamiltonian , test_hamiltonian= iterative_optimizer(hamiltonian_dict=hamiltonian_dict,\n",
    "                                                                                subspace_strings=subspace,\n",
    "                                                                                abelian_strings=abelian,\n",
    "                                                                                method=\"BFGS\",\n",
    "                                                                                tol=1e-6)\n",
    "print(\"Abelian Hamiltonian\")\n",
    "print_letters(sentence=abelian_hamiltonian)\n",
    "print()"
   ],
   "metadata": {
    "collapsed": false,
    "ExecuteTime": {
     "end_time": "2023-12-21T07:24:42.312694242Z",
     "start_time": "2023-12-21T07:24:41.831976637Z"
    }
   },
   "id": "351aee5abf619055"
  },
  {
   "cell_type": "code",
   "execution_count": 4,
   "outputs": [
    {
     "name": "stderr",
     "output_type": "stream",
     "text": [
      "/home/omar/anaconda3/lib/python3.11/site-packages/scipy/optimize/_minpack_py.py:1010: OptimizeWarning: Covariance of the parameters could not be estimated\n",
      "  warnings.warn('Covariance of the parameters could not be estimated',\n"
     ]
    },
    {
     "name": "stdout",
     "output_type": "stream",
     "text": [
      "Total iterations: 6. Relative error: 0.0\n",
      "Total iterations: 6. Relative error: 0.0\n",
      "Abelian Hamiltonian\n",
      "{'YX-XX-': (-1.7071067811864817+0j), 'XY-XX-': (-1.7071067811864817+0j), 'YXZXXZ': (-0.7071067811864823+0j), 'XYZXXZ': (-0.7071067811864823+0j), 'YX-YY-': (0.7071067811865644+0j), 'XY-YY-': (0.7071067811865644+0j), 'YXZYYZ': (-0.29289321881343516+0j), 'XYZYYZ': (-0.29289321881343516+0j), 'YY-XY-': (1.707106781186352+0j), 'XX-XY-': (-1.707106781186352+0j), 'YYZXYZ': (0.7071067811863528+0j), 'XXZXYZ': (-0.7071067811863528+0j), 'YY-YX-': (0.7071067811865918+0j), 'XX-YX-': (-0.7071067811865918+0j), 'YYZYXZ': (-0.29289321881340746+0j), 'XXZYXZ': (0.29289321881340746+0j)}\n"
     ]
    }
   ],
   "source": [
    "angles, generators, abelian_hamiltonian , test_hamiltonian= iterative_optimizer(hamiltonian_dict=hamiltonian_dict,\n",
    "                                                                                subspace_strings=subspace,\n",
    "                                                                                abelian_strings=abelian,\n",
    "                                                                                method=\"roto\",\n",
    "                                                                                tol=1e-6)\n",
    "print(\"Abelian Hamiltonian\")\n",
    "print_letters(sentence=abelian_hamiltonian)\n",
    "print()"
   ],
   "metadata": {
    "collapsed": false,
    "ExecuteTime": {
     "end_time": "2023-12-21T07:24:42.886629931Z",
     "start_time": "2023-12-21T07:24:42.313379975Z"
    }
   },
   "id": "49ab50a1c3460c94"
  },
  {
   "cell_type": "code",
   "execution_count": 4,
   "outputs": [],
   "source": [],
   "metadata": {
    "collapsed": false,
    "ExecuteTime": {
     "end_time": "2023-12-21T07:24:42.891385647Z",
     "start_time": "2023-12-21T07:24:42.887356932Z"
    }
   },
   "id": "612747e3961cefa8"
  }
 ],
 "metadata": {
  "kernelspec": {
   "display_name": "Python 3",
   "language": "python",
   "name": "python3"
  },
  "language_info": {
   "codemirror_mode": {
    "name": "ipython",
    "version": 2
   },
   "file_extension": ".py",
   "mimetype": "text/x-python",
   "name": "python",
   "nbconvert_exporter": "python",
   "pygments_lexer": "ipython2",
   "version": "2.7.6"
  }
 },
 "nbformat": 4,
 "nbformat_minor": 5
}
