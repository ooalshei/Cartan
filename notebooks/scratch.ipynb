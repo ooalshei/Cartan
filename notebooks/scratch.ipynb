{
 "cells": [
  {
   "cell_type": "code",
   "execution_count": 1,
   "id": "ed45e87a3c687c67",
   "metadata": {
    "collapsed": false,
    "ExecuteTime": {
     "end_time": "2023-12-31T00:14:12.002418086Z",
     "start_time": "2023-12-31T00:14:11.866685351Z"
    }
   },
   "outputs": [
    {
     "name": "stdout",
     "output_type": "stream",
     "text": [
      "/home/omar/PycharmProjects/Cartan\n"
     ]
    }
   ],
   "source": [
    "%cd /home/omar/PycharmProjects/Cartan\n",
    "from src.cartan.circuits import utils\n",
    "from qiskit import *"
   ]
  },
  {
   "cell_type": "code",
   "outputs": [
    {
     "name": "stderr",
     "output_type": "stream",
     "text": [
      "/home/omar/anaconda3/envs/qiskit/lib/python3.11/site-packages/qiskit/visualization/circuit/matplotlib.py:266: FutureWarning: The default matplotlib drawer scheme will be changed to \"iqp\" in a following release. To silence this warning, specify the current default explicitly as style=\"clifford\", or the new default as style=\"iqp\".\n",
      "  self._style, def_font_ratio = load_style(self._style)\n"
     ]
    },
    {
     "data": {
      "text/plain": "<Figure size 162.08x367.889 with 1 Axes>",
      "image/png": "[encoded data removed]"
     },
     "execution_count": 2,
     "metadata": {},
     "output_type": "execute_result"
    }
   ],
   "source": [
    "circ = QuantumCircuit(4)\n",
    "utils.string_exp_product(circ, [\"XXXY\", \"ZZ--\"], [0.1, 1.1], barrier=True)\n",
    "circ.draw(\"mpl\")"
   ],
   "metadata": {
    "collapsed": false,
    "ExecuteTime": {
     "end_time": "2023-12-31T00:14:20.344795146Z",
     "start_time": "2023-12-31T00:14:20.101463617Z"
    }
   },
   "id": "7005c523b457886b",
   "execution_count": 2
  },
  {
   "cell_type": "code",
   "outputs": [],
   "source": [
    "# Python version 3.11.5\n",
    "# Created on December 26, 2023\n",
    "from qiskit import QuantumCircuit\n",
    "\n",
    "\n",
    "def xy_unitary(circ, angle1, angle2, index1, index2):\n",
    "    circ.h(index1)\n",
    "    circ.s(index1)\n",
    "    circ.h(index2)\n",
    "    circ.s(index2)\n",
    "    circ.h(index2)\n",
    "    circ.cx(index1, index2)\n",
    "    circ.rx(-2 * angle1, index1)\n",
    "    circ.rz(-2 * angle2, index2)\n",
    "    circ.cx(index1, index2)\n",
    "    circ.sdg(index1)\n",
    "    circ.h(index1)\n",
    "    circ.h(index2)\n",
    "    circ.sdg(index2)\n",
    "    circ.h(index2)\n",
    "\n",
    "\n",
    "def k_for_tfim(circ, number_of_sites, angles):\n",
    "    \"\"\"Number of angles should be 2 * sum i from 1 to n-1\"\"\"\n",
    "\n",
    "    angle_index = 0\n",
    "    for i in range(number_of_sites - 1, 0, -1):\n",
    "\n",
    "        index = i\n",
    "        while index < number_of_sites:\n",
    "            xy_unitary(circ, angles[angle_index], angles[angle_index + 1], index, index - 1)\n",
    "            index += 2\n",
    "            angle_index += 2\n",
    "\n",
    "    for i in range(2, number_of_sites):\n",
    "\n",
    "        index = i\n",
    "        while index < number_of_sites:\n",
    "            xy_unitary(circ, angles[angle_index], angles[angle_index + 1], index, index - 1)\n",
    "            index += 2\n",
    "            angle_index += 2\n",
    "\n",
    "\n"
   ],
   "metadata": {
    "collapsed": false
   },
   "id": "bc55412bf11ded01"
  },
  {
   "cell_type": "code",
   "outputs": [
    {
     "data": {
      "text/plain": "<Figure size 203.885x367.889 with 1 Axes>",
      "image/png": "[encoded data removed]"
     },
     "execution_count": 4,
     "metadata": {},
     "output_type": "execute_result"
    }
   ],
   "source": [
    "circ = QuantumCircuit(4)\n",
    "circ.h(-4)\n",
    "circ.draw(\"mpl\")"
   ],
   "metadata": {
    "collapsed": false,
    "ExecuteTime": {
     "end_time": "2023-12-30T20:59:57.642225602Z",
     "start_time": "2023-12-30T20:59:57.590945698Z"
    }
   },
   "id": "e84bd58fd4c2b6f1",
   "execution_count": 4
  },
  {
   "cell_type": "code",
   "outputs": [
    {
     "data": {
      "text/plain": "15"
     },
     "execution_count": 7,
     "metadata": {},
     "output_type": "execute_result"
    }
   ],
   "source": [
    "sum(i for i in range(6))"
   ],
   "metadata": {
    "collapsed": false,
    "ExecuteTime": {
     "end_time": "2023-12-30T21:52:50.445789626Z",
     "start_time": "2023-12-30T21:52:50.439474216Z"
    }
   },
   "id": "6006f598cca4db8f",
   "execution_count": 7
  },
  {
   "cell_type": "code",
   "outputs": [
    {
     "data": {
      "text/plain": "[3]"
     },
     "execution_count": 13,
     "metadata": {},
     "output_type": "execute_result"
    }
   ],
   "source": [
    "def f(x):\n",
    "    x = x+[2]\n",
    "    return x\n",
    "y = [3]\n",
    "f(y)\n",
    "y"
   ],
   "metadata": {
    "collapsed": false,
    "ExecuteTime": {
     "end_time": "2023-12-31T01:20:04.080039480Z",
     "start_time": "2023-12-31T01:20:04.076349853Z"
    }
   },
   "id": "c3fd8ff8e717ab51",
   "execution_count": 13
  },
  {
   "cell_type": "code",
   "outputs": [],
   "source": [],
   "metadata": {
    "collapsed": false
   },
   "id": "c56ca56a076e127d"
  }
 ],
 "metadata": {
  "kernelspec": {
   "name": "qiskit",
   "language": "python",
   "display_name": "qiskit"
  },
  "language_info": {
   "codemirror_mode": {
    "name": "ipython",
    "version": 3
   },
   "file_extension": ".py",
   "mimetype": "text/x-python",
   "name": "python",
   "nbconvert_exporter": "python",
   "pygments_lexer": "ipython3",
   "version": "3.11.5"
  }
 },
 "nbformat": 4,
 "nbformat_minor": 5
}
