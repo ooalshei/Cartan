{
 "cells": [
  {
   "cell_type": "code",
   "execution_count": 9,
   "id": "initial_id",
   "metadata": {
    "ExecuteTime": {
     "end_time": "2023-12-21T05:44:17.581780315Z",
     "start_time": "2023-12-21T05:44:17.576895080Z"
    }
   },
   "outputs": [
    {
     "name": "stdout",
     "output_type": "stream",
     "text": [
      "/home/omar/PycharmProjects/Cartan\n"
     ]
    }
   ],
   "source": [
    "%cd /home/omar/PycharmProjects/Cartan\n",
    "import numpy as np\n",
    "import matplotlib.pyplot as plt\n",
    "from src.cartan.algebras import InvolutionlessCartan\n",
    "from src.cartan.optimizers.cartan_optimizer import optimizer\n",
    "from src.cartan import time_evolution\n"
   ]
  },
  {
   "cell_type": "markdown",
   "source": [
    "    UCC model"
   ],
   "metadata": {
    "collapsed": false
   },
   "id": "d0e68e48653e8c8e"
  },
  {
   "cell_type": "code",
   "execution_count": 10,
   "id": "f6a1ba859509cbf7",
   "metadata": {
    "collapsed": false,
    "ExecuteTime": {
     "end_time": "2023-12-21T05:44:21.749672364Z",
     "start_time": "2023-12-21T05:44:21.735688464Z"
    }
   },
   "outputs": [
    {
     "name": "stdout",
     "output_type": "stream",
     "text": [
      "Hamiltonian strings: [(1, 1, 1, 3, 3, 2), (2, 2, 1, 3, 3, 2), (1, 2, 2, 3, 3, 2), (2, 1, 2, 3, 3, 2), (1, 2, 1, 3, 3, 1), (2, 1, 1, 3, 3, 1), (1, 1, 2, 3, 3, 1), (2, 2, 2, 3, 3, 1), (1, 1, 0, 1, 2, 0), (2, 2, 0, 1, 2, 0), (1, 2, 0, 1, 1, 0), (2, 1, 0, 1, 1, 0), (1, 2, 0, 2, 2, 0), (2, 1, 0, 2, 2, 0), (1, 1, 0, 2, 1, 0), (2, 2, 0, 2, 1, 0)]\n",
      "\n",
      "Hamiltonian dictionary: {(1, 1, 1, 3, 3, 2): 1, (2, 2, 1, 3, 3, 2): -1, (1, 2, 2, 3, 3, 2): 1, (2, 1, 2, 3, 3, 2): 1, (1, 2, 1, 3, 3, 1): -1, (2, 1, 1, 3, 3, 1): -1, (1, 1, 2, 3, 3, 1): 1, (2, 2, 2, 3, 3, 1): -1, (1, 1, 0, 1, 2, 0): -1, (2, 2, 0, 1, 2, 0): 1, (1, 2, 0, 1, 1, 0): 1, (2, 1, 0, 1, 1, 0): 1, (1, 2, 0, 2, 2, 0): -1, (2, 1, 0, 2, 2, 0): -1, (1, 1, 0, 2, 1, 0): -1, (2, 2, 0, 2, 1, 0): 1}\n",
      "\n",
      "contradiction: False. This is a Cartan Hamiltonian.\n",
      "\n",
      "k algebra: [(0, 3, 1, 1, 2, 1), (3, 0, 1, 1, 2, 1), (0, 3, 2, 1, 2, 2), (3, 0, 2, 1, 2, 2), (0, 3, 2, 1, 1, 1), (3, 0, 2, 1, 1, 1), (0, 3, 1, 1, 1, 2), (3, 0, 1, 1, 1, 2), (0, 3, 2, 2, 2, 1), (3, 0, 2, 2, 2, 1), (0, 3, 1, 2, 2, 2), (3, 0, 1, 2, 2, 2), (0, 3, 1, 2, 1, 1), (3, 0, 1, 2, 1, 1), (0, 3, 2, 2, 1, 2), (3, 0, 2, 2, 1, 2)].\n",
      "\n",
      "subalgebra: [(1, 1, 0, 1, 2, 0), (1, 1, 0, 2, 1, 0), (1, 2, 0, 1, 1, 0), (1, 2, 0, 2, 2, 0), (2, 1, 0, 1, 1, 0), (2, 1, 0, 2, 2, 0), (2, 2, 0, 1, 2, 0), (2, 2, 0, 2, 1, 0), (1, 1, 3, 1, 2, 3), (1, 1, 3, 2, 1, 3), (1, 2, 3, 1, 1, 3), (1, 2, 3, 2, 2, 3), (2, 1, 3, 1, 1, 3), (2, 1, 3, 2, 2, 3), (2, 2, 3, 1, 2, 3), (2, 2, 3, 2, 1, 3)]\n"
     ]
    }
   ],
   "source": [
    "N = 6\n",
    "model = \"UCC\"\n",
    "\n",
    "UCC_object = InvolutionlessCartan(N, model)\n",
    "hamiltonian_strings, hamiltonian_coefficients = UCC_object.builder()\n",
    "print(f\"Hamiltonian strings: {hamiltonian_strings}\")\n",
    "print()\n",
    "hamiltonian_dict = dict(zip(hamiltonian_strings, hamiltonian_coefficients))\n",
    "print(f\"Hamiltonian dictionary: {hamiltonian_dict}\")\n",
    "print()\n",
    "\n",
    "decomposition_dict = UCC_object.decomposition(hamiltonian_list=hamiltonian_strings)\n",
    "contradiction = decomposition_dict[\"contradiction\"]\n",
    "print(f\"contradiction: {contradiction}. This is a Cartan Hamiltonian.\")\n",
    "print()\n",
    "k_strings = decomposition_dict[\"k\"]\n",
    "print(f\"k algebra: {k_strings}.\")\n",
    "print()\n",
    "subalgebra = decomposition_dict[\"h\"]\n",
    "print(f\"subalgebra: {subalgebra}\")\n",
    "print()"
   ]
  },
  {
   "cell_type": "code",
   "execution_count": 11,
   "outputs": [
    {
     "name": "stdout",
     "output_type": "stream",
     "text": [
      "Abelian Hamiltonian: {(2, 1, 0, 1, 1, 0): (-0.7071061346493159+0j), (1, 2, 0, 1, 1, 0): (-0.7071061346493159+0j), (2, 1, 3, 1, 1, 3): (-1.7071061308295028+0j), (1, 2, 3, 1, 1, 3): (-1.7071061308295028+0j), (2, 1, 0, 2, 2, 0): (-0.2928938577433026+0j), (1, 2, 0, 2, 2, 0): (-0.2928938577433026+0j), (2, 1, 3, 2, 2, 3): (0.7071061384368844+0j), (1, 2, 3, 2, 2, 3): (0.7071061384368844+0j), (2, 2, 0, 1, 2, 0): (-0.7071069540926844+0j), (1, 1, 0, 1, 2, 0): (0.7071069540926844+0j), (2, 2, 3, 1, 2, 3): (-1.7071061688790805+0j), (1, 1, 3, 1, 2, 3): (1.7071061688790805+0j), (2, 2, 0, 2, 1, 0): (0.2928930236457337+0j), (1, 1, 0, 2, 1, 0): (-0.2928930236457337+0j), (2, 2, 3, 2, 1, 3): (-0.7071061911406624+0j), (1, 1, 3, 2, 1, 3): (0.7071061911406624+0j)}\n"
     ]
    }
   ],
   "source": [
    "angles, generators, abelian_hamiltonian , test_hamiltonian= optimizer(hamiltonian_dict=hamiltonian_dict, algebra_strings=k_strings, subalgebra_strings=subalgebra, tol=1e-2)\n",
    "print(f\"Abelian Hamiltonian: {abelian_hamiltonian}\")\n",
    "print()"
   ],
   "metadata": {
    "collapsed": false,
    "ExecuteTime": {
     "end_time": "2023-12-21T05:44:30.627579Z",
     "start_time": "2023-12-21T05:44:28.916750003Z"
    }
   },
   "id": "e9a621b58e0cfc95"
  },
  {
   "cell_type": "code",
   "execution_count": 12,
   "outputs": [
    {
     "name": "stdout",
     "output_type": "stream",
     "text": [
      "Iteration 50. Relative error: 0.048216411657940564\n",
      "Iteration 100. Relative error: 0.0009006803257846453\n",
      "Total iterations: 128\n",
      "Abelian Hamiltonian: {(2, 1, 0, 1, 1, 0): (-0.7071067997628295+0j), (1, 2, 0, 1, 1, 0): (-0.7071067997628295+0j), (2, 1, 3, 1, 1, 3): (-1.7071067625113083+0j), (1, 2, 3, 1, 1, 3): (-1.7071067625113083+0j), (2, 1, 0, 2, 2, 0): (-0.2928932002371425+0j), (1, 2, 0, 2, 2, 0): (-0.2928932002371425+0j), (2, 1, 3, 2, 2, 3): (0.7071067625113359+0j), (1, 2, 3, 2, 2, 3): (0.7071067625113359+0j), (2, 2, 0, 1, 2, 0): (-0.7071067811865475+0j), (1, 1, 0, 1, 2, 0): (0.7071067811865475+0j), (2, 2, 3, 1, 2, 3): (-1.7071067811865477+0j), (1, 1, 3, 1, 2, 3): (1.7071067811865477+0j), (2, 2, 0, 2, 1, 0): (0.29289321881345254+0j), (1, 1, 0, 2, 1, 0): (-0.29289321881345254+0j), (2, 2, 3, 2, 1, 3): (-0.7071067811865477+0j), (1, 1, 3, 2, 1, 3): (0.7071067811865477+0j)}\n"
     ]
    }
   ],
   "source": [
    "angles, generators, abelian_hamiltonian, test_hamiltonian = optimizer(hamiltonian_dict=hamiltonian_dict,\n",
    "                                                                      algebra_strings=k_strings,\n",
    "                                                                      subalgebra_strings=subalgebra,\n",
    "                                                                      method=\"roto\",\n",
    "                                                                      tol=1e-4,\n",
    "                                                                      coefficient_tol=0\n",
    "                                                                      )\n",
    "print(f\"Abelian Hamiltonian: {abelian_hamiltonian}\")\n",
    "print()"
   ],
   "metadata": {
    "collapsed": false,
    "ExecuteTime": {
     "end_time": "2023-12-21T05:45:04.098577240Z",
     "start_time": "2023-12-21T05:44:37.772375382Z"
    }
   },
   "id": "785e3d5a28bc384"
  },
  {
   "cell_type": "code",
   "execution_count": 4,
   "outputs": [],
   "source": [],
   "metadata": {
    "collapsed": false,
    "ExecuteTime": {
     "end_time": "2023-12-21T03:50:25.259763281Z",
     "start_time": "2023-12-21T03:50:25.258110999Z"
    }
   },
   "id": "2d136cf83a5a31a3"
  }
 ],
 "metadata": {
  "kernelspec": {
   "display_name": "Python 3 (ipykernel)",
   "language": "python",
   "name": "python3"
  },
  "language_info": {
   "codemirror_mode": {
    "name": "ipython",
    "version": 3
   },
   "file_extension": ".py",
   "mimetype": "text/x-python",
   "name": "python",
   "nbconvert_exporter": "python",
   "pygments_lexer": "ipython3",
   "version": "3.11.5"
  }
 },
 "nbformat": 4,
 "nbformat_minor": 5
}
