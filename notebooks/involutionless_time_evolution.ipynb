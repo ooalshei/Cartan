{
 "cells": [
  {
   "cell_type": "code",
   "execution_count": 1,
   "id": "initial_id",
   "metadata": {
    "ExecuteTime": {
     "end_time": "2023-12-21T21:04:39.914212021Z",
     "start_time": "2023-12-21T21:04:39.669361503Z"
    }
   },
   "outputs": [
    {
     "name": "stdout",
     "output_type": "stream",
     "text": [
      "/home/omar/PycharmProjects/Cartan\n"
     ]
    }
   ],
   "source": [
    "%cd /home/omar/PycharmProjects/Cartan\n",
    "import numpy as np\n",
    "import matplotlib.pyplot as plt\n",
    "from src.cartan.algebras import InvolutionlessCartan\n",
    "from src.cartan.optimizers.cartan_optimizer import optimizer\n",
    "from src.cartan.pauli_operations import print_letters\n",
    "from src.cartan import time_evolution\n"
   ]
  },
  {
   "cell_type": "markdown",
   "source": [
    "    UCC model"
   ],
   "metadata": {
    "collapsed": false
   },
   "id": "d0e68e48653e8c8e"
  },
  {
   "cell_type": "code",
   "execution_count": 2,
   "id": "f6a1ba859509cbf7",
   "metadata": {
    "collapsed": false,
    "ExecuteTime": {
     "end_time": "2023-12-21T21:04:39.914527987Z",
     "start_time": "2023-12-21T21:04:39.914047413Z"
    }
   },
   "outputs": [
    {
     "name": "stdout",
     "output_type": "stream",
     "text": [
      "Hamiltonian strings\n",
      "['XXXZZY', 'YYXZZY', 'XYYZZY', 'YXYZZY', 'XYXZZX', 'YXXZZX', 'XXYZZX', 'YYYZZX', 'XX-XY-', 'YY-XY-', 'XY-XX-', 'YX-XX-', 'XY-YY-', 'YX-YY-', 'XX-YX-', 'YY-YX-']\n",
      "\n",
      "Hamiltonian dictionary\n",
      "{'XXXZZY': 1, 'YYXZZY': -1, 'XYYZZY': 1, 'YXYZZY': 1, 'XYXZZX': -1, 'YXXZZX': -1, 'XXYZZX': 1, 'YYYZZX': -1, 'XX-XY-': -1, 'YY-XY-': 1, 'XY-XX-': 1, 'YX-XX-': 1, 'XY-YY-': -1, 'YX-YY-': -1, 'XX-YX-': -1, 'YY-YX-': 1}\n",
      "\n",
      "contradiction: False. This is a Cartan Hamiltonian.\n",
      "\n",
      "k algebra\n",
      "['-ZXXYX', 'Z-XXYX', '-ZYXYY', 'Z-YXYY', '-ZYXXX', 'Z-YXXX', '-ZXXXY', 'Z-XXXY', '-ZYYYX', 'Z-YYYX', '-ZXYYY', 'Z-XYYY', '-ZXYXX', 'Z-XYXX', '-ZYYXY', 'Z-YYXY']\n",
      "\n",
      "subalgebra\n",
      "['XX-XY-', 'XX-YX-', 'XY-XX-', 'XY-YY-', 'YX-XX-', 'YX-YY-', 'YY-XY-', 'YY-YX-', 'XXZXYZ', 'XXZYXZ', 'XYZXXZ', 'XYZYYZ', 'YXZXXZ', 'YXZYYZ', 'YYZXYZ', 'YYZYXZ']\n"
     ]
    }
   ],
   "source": [
    "N = 6\n",
    "model = \"UCC\"\n",
    "parameters = None\n",
    "\n",
    "UCC_object = InvolutionlessCartan(N, model)\n",
    "hamiltonian_strings, hamiltonian_coefficients = UCC_object.builder(parameters)\n",
    "print(\"Hamiltonian strings\")\n",
    "print_letters(string_list=hamiltonian_strings)\n",
    "print()\n",
    "hamiltonian_dict = dict(zip(hamiltonian_strings, hamiltonian_coefficients))\n",
    "print(\"Hamiltonian dictionary\")\n",
    "print_letters(sentence=hamiltonian_dict)\n",
    "print()\n",
    "\n",
    "decomposition_dict = UCC_object.decomposition(hamiltonian_list=hamiltonian_strings)\n",
    "contradiction = decomposition_dict[\"contradiction\"]\n",
    "print(f\"contradiction: {contradiction}. This is a Cartan Hamiltonian.\")\n",
    "print()\n",
    "k_strings = decomposition_dict[\"k\"]\n",
    "print(\"k algebra\")\n",
    "print_letters(string_list=k_strings)\n",
    "print()\n",
    "subalgebra = decomposition_dict[\"h\"]\n",
    "print(\"subalgebra\")\n",
    "print_letters(string_list=subalgebra)\n",
    "print()"
   ]
  },
  {
   "cell_type": "code",
   "execution_count": 3,
   "outputs": [
    {
     "name": "stdout",
     "output_type": "stream",
     "text": [
      "Transformed Hamiltonian\n",
      "{'XXXZZY': (-2.6039308625991353e-07+0j), 'YX-XX-': (-0.7071067811866123+0j), 'XY-XX-': (-0.7071067811866123+0j), 'YYXZZY': (2.6039308625991353e-07+0j), 'YXZXXZ': (-1.70710678118648+0j), 'XXYZZX': (2.539157561987082e-07+0j), 'YYYZZX': (-2.539157561987082e-07+0j), 'XYZXXZ': (-1.70710678118648+0j), 'YX-YY-': (-0.29289321881338626+0j), 'XXX--Y': (-3.105872890263317e-07+0j), 'YYX--Y': (3.105872890263317e-07+0j), 'XY-YY-': (-0.29289321881338626+0j), 'XXY--X': (2.037215533490233e-07+0j), 'YXZYYZ': (0.7071067811864814+0j), 'XYZYYZ': (0.7071067811864814+0j), 'YYY--X': (-2.037215533490233e-07+0j), 'XYYZZY': (1.2755116018947632e-08+0j), 'YY-XY-': (-0.7071067811865437+0j), 'XX-XY-': (0.7071067811865437+0j), 'YXYZZY': (1.2755116018947632e-08+0j), 'YYZXYZ': (-1.7071067811865432+0j), 'XYXZZX': (1.2371444424452704e-08+0j), 'YXXZZX': (1.2371444424452704e-08+0j), 'XXZXYZ': (1.7071067811865432+0j), 'YY-YX-': (0.2928932188134515+0j), 'XYY--Y': (-8.481312790964424e-08+0j), 'YXY--Y': (-8.481312790964424e-08+0j), 'XX-YX-': (-0.2928932188134515+0j), 'XYX--X': (1.0993968796446651e-07+0j), 'YYZYXZ': (-0.7071067811865479+0j), 'XXZYXZ': (0.7071067811865479+0j), 'YXX--X': (1.0993968796446651e-07+0j)}\n",
      "\n",
      "Abelian Hamiltonian\n",
      "{'YX-XX-': (-0.7071067811866123+0j), 'XY-XX-': (-0.7071067811866123+0j), 'YXZXXZ': (-1.70710678118648+0j), 'XYZXXZ': (-1.70710678118648+0j), 'YX-YY-': (-0.29289321881338626+0j), 'XY-YY-': (-0.29289321881338626+0j), 'YXZYYZ': (0.7071067811864814+0j), 'XYZYYZ': (0.7071067811864814+0j), 'YY-XY-': (-0.7071067811865437+0j), 'XX-XY-': (0.7071067811865437+0j), 'YYZXYZ': (-1.7071067811865432+0j), 'XXZXYZ': (1.7071067811865432+0j), 'YY-YX-': (0.2928932188134515+0j), 'XX-YX-': (-0.2928932188134515+0j), 'YYZYXZ': (-0.7071067811865479+0j), 'XXZYXZ': (0.7071067811865479+0j)}\n"
     ]
    }
   ],
   "source": [
    "angles, generators, abelian_hamiltonian , test_hamiltonian= optimizer(hamiltonian_dict=hamiltonian_dict,\n",
    "                                                                      algebra_strings=k_strings,\n",
    "                                                                      subalgebra_strings=subalgebra,\n",
    "                                                                      method=\"BFGS\",\n",
    "                                                                      tol=1e-6,\n",
    "                                                                      coefficient_tol=0\n",
    "                                                                      )\n",
    "print(\"Transformed Hamiltonian\")\n",
    "print_letters(sentence=test_hamiltonian)\n",
    "print()\n",
    "print(\"Abelian Hamiltonian\")\n",
    "print_letters(sentence=abelian_hamiltonian)\n",
    "print()"
   ],
   "metadata": {
    "collapsed": false,
    "ExecuteTime": {
     "end_time": "2023-12-21T21:04:41.956280044Z",
     "start_time": "2023-12-21T21:04:39.914228413Z"
    }
   },
   "id": "e9a621b58e0cfc95"
  },
  {
   "cell_type": "code",
   "execution_count": 4,
   "outputs": [
    {
     "name": "stderr",
     "output_type": "stream",
     "text": [
      "/home/omar/anaconda3/lib/python3.11/site-packages/scipy/optimize/_minpack_py.py:1010: OptimizeWarning: Covariance of the parameters could not be estimated\n",
      "  warnings.warn('Covariance of the parameters could not be estimated',\n"
     ]
    },
    {
     "name": "stdout",
     "output_type": "stream",
     "text": [
      "Iteration 50. Relative error: 0.008806727452757103\n",
      "Iteration 100. Relative error: 0.0001637356571126835\n",
      "Iteration 150. Relative error: 3.043699983208875e-06\n",
      "Total iterations: 164. Relative error: 9.972274769294595e-07\n",
      "Transformed Hamiltonian\n",
      "{'XXXZZY': (-1.4927025221989076e-06+0j), 'YX-XX-': (-0.7071067811885239+0j), 'XY-XX-': (-0.7071067811885239+0j), 'YYXZZY': (1.4927025221989076e-06+0j), 'YXZXXZ': (-1.7071067811845608+0j), 'XXYZZX': (1.322599856301565e-06+0j), 'YYYZZX': (-1.322599856301565e-06+0j), 'XYZXXZ': (-1.7071067811845608+0j), 'YX-YY-': (-0.29289321881147634+0j), 'XXX--Y': (-1.4951331489543307e-06+0j), 'YYX--Y': (1.4951331489543307e-06+0j), 'XY-YY-': (-0.29289321881147634+0j), 'XXY--X': (1.3201692289910305e-06+0j), 'YXZYYZ': (0.7071067811845609+0j), 'XYZYYZ': (0.7071067811845609+0j), 'YYY--X': (-1.3201692289910305e-06+0j), 'XYYZZY': (-2.5673907444456745e-16+0j), 'YY-XY-': (-0.7071067811865475+0j), 'XX-XY-': (0.7071067811865475+0j), 'YXYZZY': (-2.5673907444456745e-16+0j), 'YYZXYZ': (-1.7071067811865475+0j), 'XYXZZX': (4.579669976578771e-16+0j), 'YXXZZX': (4.579669976578771e-16+0j), 'XXZXYZ': (1.7071067811865475+0j), 'YY-YX-': (0.2928932188134524+0j), 'XYY--Y': (7.598088824778415e-16+0j), 'YXY--Y': (7.598088824778415e-16+0j), 'XX-YX-': (-0.2928932188134524+0j), 'XYX--X': (-7.840950111415168e-16+0j), 'YYZYXZ': (-0.7071067811865474+0j), 'XXZYXZ': (0.7071067811865474+0j), 'YXX--X': (-7.840950111415168e-16+0j)}\n",
      "\n",
      "Abelian Hamiltonian\n",
      "{'YX-XX-': (-0.7071067811885239+0j), 'XY-XX-': (-0.7071067811885239+0j), 'YXZXXZ': (-1.7071067811845608+0j), 'XYZXXZ': (-1.7071067811845608+0j), 'YX-YY-': (-0.29289321881147634+0j), 'XY-YY-': (-0.29289321881147634+0j), 'YXZYYZ': (0.7071067811845609+0j), 'XYZYYZ': (0.7071067811845609+0j), 'YY-XY-': (-0.7071067811865475+0j), 'XX-XY-': (0.7071067811865475+0j), 'YYZXYZ': (-1.7071067811865475+0j), 'XXZXYZ': (1.7071067811865475+0j), 'YY-YX-': (0.2928932188134524+0j), 'XX-YX-': (-0.2928932188134524+0j), 'YYZYXZ': (-0.7071067811865474+0j), 'XXZYXZ': (0.7071067811865474+0j)}\n"
     ]
    }
   ],
   "source": [
    "angles, generators, abelian_hamiltonian, test_hamiltonian = optimizer(hamiltonian_dict=hamiltonian_dict,\n",
    "                                                                      algebra_strings=k_strings,\n",
    "                                                                      subalgebra_strings=subalgebra,\n",
    "                                                                      method=\"roto\",\n",
    "                                                                      tol=1e-6,\n",
    "                                                                      coefficient_tol=0\n",
    "                                                                      )\n",
    "print(\"Transformed Hamiltonian\")\n",
    "print_letters(sentence=test_hamiltonian)\n",
    "print()\n",
    "print(\"Abelian Hamiltonian\")\n",
    "print_letters(sentence=abelian_hamiltonian)\n",
    "print()"
   ],
   "metadata": {
    "collapsed": false,
    "ExecuteTime": {
     "end_time": "2023-12-21T21:05:16.806857748Z",
     "start_time": "2023-12-21T21:04:41.967954823Z"
    }
   },
   "id": "785e3d5a28bc384"
  },
  {
   "cell_type": "markdown",
   "source": [
    "Fermions on a ring in magnetic field"
   ],
   "metadata": {
    "collapsed": false
   },
   "id": "48bf6fbd1e017c66"
  },
  {
   "cell_type": "code",
   "execution_count": 5,
   "outputs": [
    {
     "name": "stdout",
     "output_type": "stream",
     "text": [
      "Hamiltonian strings\n",
      "['XX---', 'YY---', '-XX--', '-YY--', '--XX-', '--YY-', '---XX', '---YY', 'XZZZX', 'YZZZY', 'XZZZY', 'YZZZX']\n",
      "\n",
      "Hamiltonian dictionary\n",
      "{'XX---': -0.5, 'YY---': -0.5, '-XX--': -0.5, '-YY--': -0.5, '--XX-': -0.5, '--YY-': -0.5, '---XX': -0.5, '---YY': -0.5, 'XZZZX': -0.3535533905932738, 'YZZZY': -0.3535533905932738, 'XZZZY': -0.35355339059327373, 'YZZZX': 0.35355339059327373}\n",
      "\n",
      "contradiction: True. This is a non-Cartan Hamiltonian.\n",
      "\n",
      "DLA\n",
      "['XX---', 'YY---', '-XX--', '-YY--', '--XX-', '--YY-', '---XX', '---YY', 'XZZZX', 'YZZZY', 'XZZZY', 'YZZZX', '----Z', 'Z----', 'YZZY-', '-XZZX', 'XZZX-', '-YZZY', 'YZZX-', '-XZZY', 'XZZY-', '-YZZX', '--XZY', '--YZX', '-XZY-', '-YZX-', 'XZY--', 'YZX--', '--YX-', 'XZX--', '--YZY', '--XY-', 'YZY--', '--XZX', '---YX', 'YX---', 'XY---', '---XY', '-YX--', '-XY--', '-Z---', '-YZY-', '---Z-', '-XZX-', '--Z--']\n",
      "\n",
      "subalgebra\n",
      "['----Z', '---Z-', '--Z--', '-Z---', 'Z----']\n"
     ]
    }
   ],
   "source": [
    "N = 5\n",
    "model = \"fermion_ring\"\n",
    "parameters = None\n",
    "\n",
    "fermion_object = InvolutionlessCartan(N, model)\n",
    "hamiltonian_strings, hamiltonian_coefficients = fermion_object.builder(parameters)\n",
    "print(\"Hamiltonian strings\")\n",
    "print_letters(string_list=hamiltonian_strings)\n",
    "print()\n",
    "hamiltonian_dict = dict(zip(hamiltonian_strings, hamiltonian_coefficients))\n",
    "print(\"Hamiltonian dictionary\")\n",
    "print_letters(sentence=hamiltonian_dict)\n",
    "print()\n",
    "decomposition_dict = fermion_object.decomposition(hamiltonian_list=hamiltonian_strings)\n",
    "contradiction = decomposition_dict[\"contradiction\"]\n",
    "print(f\"contradiction: {contradiction}. This is a non-Cartan Hamiltonian.\")\n",
    "print()\n",
    "g_strings = decomposition_dict[\"DLA\"]\n",
    "print(\"DLA\")\n",
    "print_letters(string_list=g_strings)\n",
    "print()\n",
    "subalgebra = decomposition_dict[\"h\"]\n",
    "print(\"subalgebra\")\n",
    "print_letters(string_list=subalgebra)\n",
    "print()"
   ],
   "metadata": {
    "collapsed": false,
    "ExecuteTime": {
     "end_time": "2023-12-21T21:05:16.819998515Z",
     "start_time": "2023-12-21T21:05:16.816853125Z"
    }
   },
   "id": "2d136cf83a5a31a3"
  },
  {
   "cell_type": "code",
   "execution_count": 6,
   "outputs": [
    {
     "name": "stdout",
     "output_type": "stream",
     "text": [
      "Transformed Hamiltonian\n",
      "{'XX---': (0.005706089128890535+0j), 'XZZY-': (0.009706919972362487+0j), 'XZZX-': (-0.0006574929030447413+0j), 'XY---': (0.004746205430937053+0j), 'XZX--': (0.0005908977489880741+0j), 'XZY--': (0.0017141507523763687+0j), '-Z---': (-0.4513001542712228+0j), '-YZX-': (0.013887830209617757+0j), '-XZY-': (-0.007477204593644155+0j), '---Z-': (-0.8510464473586441+0j), '-XZX-': (0.004618336039866555+0j), '-YY--': (0.02330818505959686+0j), '-YX--': (0.010252510462686127+0j), '--XY-': (-0.009578632826589769+0j), '--YY-': (-0.07584848142695096+0j), '--XX-': (-0.07598495881562425+0j), '--YX-': (0.01510494847124779+0j), '-XY--': (-0.01950839354618624+0j), '-XX--': (0.023138111524267743+0j), '--Z--': (-0.7425703567890147+0j), 'Z----': (-0.9869745769901328+0j), 'YY---': (-0.001490990642330939+0j), 'YZZX-': (-0.007652482139918772+0j), 'YX---': (0.0007322952296850145+0j), 'YZZY-': (0.00018181040706189425+0j), 'YZY--': (-0.0005272500612054138+0j), 'YZX--': (-0.0015612265443137553+0j), '-YZZY': (0.044446611702476234+0j), '---XY': (-0.015307366615957631+0j), '---YY': (0.01790122883235411+0j), '-XZZY': (0.03134451813912575+0j), '--YZY': (-0.010285857273390996+0j), '--XZY': (-0.04460843862057809+0j), '-YZY-': (0.007421089468351946+0j), 'YZZZY': (-0.00975415227721612+0j), '-YZZX': (-0.04708617941150826+0j), '---XX': (0.015425900730110959+0j), '---YX': (0.007289174108581769+0j), '-XZZX': (-0.0055147184227130695+0j), '--YZX': (0.022224865499748638+0j), '--XZX': (-0.002155924585801385+0j), 'YZZZX': (-0.0015383217082181552+0j), 'XZZZX': (-0.004952529764537923+0j), '----Z': (0.15401627353878325+0j), 'XZZZY': (-0.008753222307768678+0j)}\n",
      "\n",
      "Abelian Hamiltonian\n",
      "{'-Z---': (-0.4513001542712228+0j), '---Z-': (-0.8510464473586441+0j), '--Z--': (-0.7425703567890147+0j), 'Z----': (-0.9869745769901328+0j), '----Z': (0.15401627353878325+0j)}\n"
     ]
    }
   ],
   "source": [
    "angles, generators, abelian_hamiltonian , test_hamiltonian= optimizer(hamiltonian_dict=hamiltonian_dict,\n",
    "                                                                      algebra_strings=g_strings,\n",
    "                                                                      subalgebra_strings=subalgebra,\n",
    "                                                                      method=\"BFGS\",\n",
    "                                                                      tol=1e-2,\n",
    "                                                                      coefficient_tol=0\n",
    "                                                                      )\n",
    "print(\"Transformed Hamiltonian\")\n",
    "print_letters(sentence=test_hamiltonian)\n",
    "print()\n",
    "print(\"Abelian Hamiltonian\")\n",
    "print_letters(sentence=abelian_hamiltonian)\n",
    "print()"
   ],
   "metadata": {
    "collapsed": false,
    "ExecuteTime": {
     "end_time": "2023-12-21T21:05:43.587864263Z",
     "start_time": "2023-12-21T21:05:16.818227078Z"
    }
   },
   "id": "c0d6e6e39cd9565c"
  },
  {
   "cell_type": "code",
   "execution_count": 7,
   "outputs": [
    {
     "name": "stdout",
     "output_type": "stream",
     "text": [
      "Iteration 50. Relative error: 0.12971496969687418\n",
      "Iteration 100. Relative error: 0.09442355922901051\n",
      "Iteration 150. Relative error: 0.07178243133969792\n",
      "Iteration 200. Relative error: 0.05719360677126474\n",
      "Iteration 250. Relative error: 0.047184328947349176\n",
      "Iteration 300. Relative error: 0.038811853038159594\n",
      "Iteration 350. Relative error: 0.032420887899927635\n",
      "Iteration 400. Relative error: 0.027805936445337045\n",
      "Iteration 450. Relative error: 0.024335321708872034\n",
      "Iteration 500. Relative error: 0.02149961870823002\n",
      "Iteration 550. Relative error: 0.019030317837425814\n",
      "Iteration 600. Relative error: 0.01683834645622652\n",
      "Iteration 650. Relative error: 0.01492226538496149\n",
      "Iteration 700. Relative error: 0.013295896292392206\n",
      "Iteration 750. Relative error: 0.011952085784554558\n",
      "Iteration 800. Relative error: 0.010858350705522274\n",
      "Total iterations: 849. Relative error: 0.009984467814302723\n",
      "Transformed Hamiltonian\n",
      "{'XX---': (0.0011380101021130707+0j), 'XZZY-': (-0.00044116299631886377+0j), 'XZZX-': (0.0006694449542594043+0j), 'XY---': (-0.00012282598210070113+0j), 'XZX--': (-0.0004507282419378444+0j), 'XZY--': (0.0007259720683309911+0j), '-Z---': (-0.4539866316831592+0j), '-YZX-': (0.000781881831601966+0j), '-XZY-': (-0.0004370901527804838+0j), '---Z-': (-0.8904478157824127+0j), '-XZX-': (-0.0013292655801232511+0j), '-YY--': (0.00029673386375194083+0j), '-YX--': (0.00043945257237362707+0j), '--XY-': (-0.010225121615169728+0j), '--YY-': (-0.0013364428206223177+0j), '--XX-': (-0.0012778342114760934+0j), '--YX-': (0.009837989382681163+0j), '-XY--': (0.000971935507229399+0j), '-XX--': (0.0016690598131201499+0j), '--Z--': (-0.7076637710722294+0j), 'Z----': (-0.98767119491824+0j), 'YY---': (-4.7234385193561674e-05+0j), 'YZZX-': (0.0004584606678460073+0j), 'YX---': (0.0008958447434692752+0j), 'YZZY-': (0.0011082011589194952+0j), 'YZY--': (-0.001291265996619287+0j), 'YZX--': (-0.0007005501323761809+0j), '-YZZY': (-0.0036431514567766654+0j), '---XY': (-0.0011384413907442135+0j), '---YY': (0.0014482646905335651+0j), '-XZZY': (-2.996761955947891e-08+0j), '--YZY': (0.00012503077719976845+0j), '--XZY': (0.00012445382027150828+0j), '-YZY-': (-0.0023778357848199816+0j), 'YZZZY': (0.0002353416084085615+0j), '-YZZX': (0.00026907695835134537+0j), '---XX': (0.0006585397639745443+0j), '---YX': (-0.0001650073870978787+0j), '-XZZX': (-0.002398575653297539+0j), '--YZX': (-0.0007762890764651514+0j), '--XZX': (0.0004872489976020399+0j), 'YZZZX': (0.0010045574399789065+0j), 'XZZZX': (0.000409252673868961+0j), '----Z': (0.156419945876732+0j), 'XZZZY': (-0.00030140265468313224+0j)}\n",
      "\n",
      "Abelian Hamiltonian\n",
      "{'-Z---': (-0.4539866316831592+0j), '---Z-': (-0.8904478157824127+0j), '--Z--': (-0.7076637710722294+0j), 'Z----': (-0.98767119491824+0j), '----Z': (0.156419945876732+0j)}\n"
     ]
    }
   ],
   "source": [
    "angles, generators, abelian_hamiltonian, test_hamiltonian = optimizer(hamiltonian_dict=hamiltonian_dict,\n",
    "                                                                      algebra_strings=g_strings,\n",
    "                                                                      subalgebra_strings=subalgebra,\n",
    "                                                                      method=\"roto\",\n",
    "                                                                      tol=1e-2,\n",
    "                                                                      coefficient_tol=0\n",
    "                                                                      )\n",
    "print(\"Transformed Hamiltonian\")\n",
    "print_letters(sentence=test_hamiltonian)\n",
    "print()\n",
    "print(\"Abelian Hamiltonian\")\n",
    "print_letters(sentence=abelian_hamiltonian)\n",
    "print()"
   ],
   "metadata": {
    "collapsed": false,
    "ExecuteTime": {
     "end_time": "2023-12-21T21:21:59.054657820Z",
     "start_time": "2023-12-21T21:05:43.586037139Z"
    }
   },
   "id": "d1293f701bc64ae5"
  },
  {
   "cell_type": "code",
   "execution_count": 7,
   "outputs": [],
   "source": [],
   "metadata": {
    "collapsed": false,
    "ExecuteTime": {
     "end_time": "2023-12-21T21:21:59.054872501Z",
     "start_time": "2023-12-21T21:21:59.054524796Z"
    }
   },
   "id": "8ca8dbf629bcac37"
  }
 ],
 "metadata": {
  "kernelspec": {
   "display_name": "Python 3 (ipykernel)",
   "language": "python",
   "name": "python3"
  },
  "language_info": {
   "codemirror_mode": {
    "name": "ipython",
    "version": 3
   },
   "file_extension": ".py",
   "mimetype": "text/x-python",
   "name": "python",
   "nbconvert_exporter": "python",
   "pygments_lexer": "ipython3",
   "version": "3.11.5"
  }
 },
 "nbformat": 4,
 "nbformat_minor": 5
}
