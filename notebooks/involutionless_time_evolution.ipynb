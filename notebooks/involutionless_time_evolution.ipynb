{
 "cells": [
  {
   "cell_type": "code",
   "execution_count": 1,
   "id": "initial_id",
   "metadata": {
    "ExecuteTime": {
     "end_time": "2023-12-21T07:06:55.446024655Z",
     "start_time": "2023-12-21T07:06:55.208502361Z"
    }
   },
   "outputs": [
    {
     "name": "stdout",
     "output_type": "stream",
     "text": [
      "/home/omar/PycharmProjects/Cartan\n"
     ]
    }
   ],
   "source": [
    "%cd /home/omar/PycharmProjects/Cartan\n",
    "import numpy as np\n",
    "import matplotlib.pyplot as plt\n",
    "from src.cartan.algebras import InvolutionlessCartan\n",
    "from src.cartan.optimizers.cartan_optimizer import optimizer\n",
    "from src.cartan.pauli_operations import print_letters\n",
    "from src.cartan import time_evolution\n"
   ]
  },
  {
   "cell_type": "markdown",
   "source": [
    "    UCC model"
   ],
   "metadata": {
    "collapsed": false
   },
   "id": "d0e68e48653e8c8e"
  },
  {
   "cell_type": "code",
   "execution_count": 2,
   "id": "f6a1ba859509cbf7",
   "metadata": {
    "collapsed": false,
    "ExecuteTime": {
     "end_time": "2023-12-21T07:06:55.449869253Z",
     "start_time": "2023-12-21T07:06:55.445960717Z"
    }
   },
   "outputs": [
    {
     "name": "stdout",
     "output_type": "stream",
     "text": [
      "Hamiltonian strings\n",
      "['XXXZZY', 'YYXZZY', 'XYYZZY', 'YXYZZY', 'XYXZZX', 'YXXZZX', 'XXYZZX', 'YYYZZX', 'XX-XY-', 'YY-XY-', 'XY-XX-', 'YX-XX-', 'XY-YY-', 'YX-YY-', 'XX-YX-', 'YY-YX-']\n",
      "\n",
      "Hamiltonian dictionary\n",
      "{'XXXZZY': 1, 'YYXZZY': -1, 'XYYZZY': 1, 'YXYZZY': 1, 'XYXZZX': -1, 'YXXZZX': -1, 'XXYZZX': 1, 'YYYZZX': -1, 'XX-XY-': -1, 'YY-XY-': 1, 'XY-XX-': 1, 'YX-XX-': 1, 'XY-YY-': -1, 'YX-YY-': -1, 'XX-YX-': -1, 'YY-YX-': 1}\n",
      "\n",
      "contradiction: False. This is a Cartan Hamiltonian.\n",
      "\n",
      "k algebra\n",
      "['-ZXXYX', 'Z-XXYX', '-ZYXYY', 'Z-YXYY', '-ZYXXX', 'Z-YXXX', '-ZXXXY', 'Z-XXXY', '-ZYYYX', 'Z-YYYX', '-ZXYYY', 'Z-XYYY', '-ZXYXX', 'Z-XYXX', '-ZYYXY', 'Z-YYXY']\n",
      "\n",
      "subalgebra\n",
      "['XX-XY-', 'XX-YX-', 'XY-XX-', 'XY-YY-', 'YX-XX-', 'YX-YY-', 'YY-XY-', 'YY-YX-', 'XXZXYZ', 'XXZYXZ', 'XYZXXZ', 'XYZYYZ', 'YXZXXZ', 'YXZYYZ', 'YYZXYZ', 'YYZYXZ']\n"
     ]
    }
   ],
   "source": [
    "N = 6\n",
    "model = \"UCC\"\n",
    "\n",
    "UCC_object = InvolutionlessCartan(N, model)\n",
    "hamiltonian_strings, hamiltonian_coefficients = UCC_object.builder()\n",
    "print(\"Hamiltonian strings\")\n",
    "print_letters(string_list=hamiltonian_strings)\n",
    "print()\n",
    "hamiltonian_dict = dict(zip(hamiltonian_strings, hamiltonian_coefficients))\n",
    "print(\"Hamiltonian dictionary\")\n",
    "print_letters(sentence=hamiltonian_dict)\n",
    "print()\n",
    "\n",
    "decomposition_dict = UCC_object.decomposition(hamiltonian_list=hamiltonian_strings)\n",
    "contradiction = decomposition_dict[\"contradiction\"]\n",
    "print(f\"contradiction: {contradiction}. This is a Cartan Hamiltonian.\")\n",
    "print()\n",
    "k_strings = decomposition_dict[\"k\"]\n",
    "print(\"k algebra\")\n",
    "print_letters(string_list=k_strings)\n",
    "print()\n",
    "subalgebra = decomposition_dict[\"h\"]\n",
    "print(\"subalgebra\")\n",
    "print_letters(string_list=subalgebra)\n",
    "print()"
   ]
  },
  {
   "cell_type": "code",
   "execution_count": 3,
   "outputs": [
    {
     "name": "stdout",
     "output_type": "stream",
     "text": [
      "Abelian Hamiltonian\n",
      "{'YX-XX-': (-0.7071067811865568+0j), 'XY-XX-': (-0.7071067811865568+0j), 'YXZXXZ': (-1.7071067811865372+0j), 'XYZXXZ': (-1.7071067811865372+0j), 'YX-YY-': (-0.29289321881344327+0j), 'XY-YY-': (-0.29289321881344327+0j), 'YXZYYZ': (0.7071067811865369+0j), 'XYZYYZ': (0.7071067811865369+0j), 'YY-XY-': (-0.7071067811865476+0j), 'XX-XY-': (0.7071067811865476+0j), 'YYZXYZ': (-1.7071067811865468+0j), 'XXZXYZ': (1.7071067811865468+0j), 'YY-YX-': (0.2928932188134522+0j), 'XX-YX-': (-0.2928932188134522+0j), 'YYZYXZ': (-0.707106781186547+0j), 'XXZYXZ': (0.707106781186547+0j)}\n"
     ]
    }
   ],
   "source": [
    "angles, generators, abelian_hamiltonian , test_hamiltonian= optimizer(hamiltonian_dict=hamiltonian_dict,\n",
    "                                                                      algebra_strings=k_strings,\n",
    "                                                                      subalgebra_strings=subalgebra,\n",
    "                                                                      method=\"BFGS\",\n",
    "                                                                      tol=1e-6\n",
    "                                                                      )\n",
    "print(\"Abelian Hamiltonian\")\n",
    "print_letters(sentence=abelian_hamiltonian)\n",
    "print()"
   ],
   "metadata": {
    "collapsed": false,
    "ExecuteTime": {
     "end_time": "2023-12-21T07:06:57.591012925Z",
     "start_time": "2023-12-21T07:06:55.449173489Z"
    }
   },
   "id": "e9a621b58e0cfc95"
  },
  {
   "cell_type": "code",
   "execution_count": 4,
   "outputs": [
    {
     "name": "stderr",
     "output_type": "stream",
     "text": [
      "/home/omar/anaconda3/lib/python3.11/site-packages/scipy/optimize/_minpack_py.py:1010: OptimizeWarning: Covariance of the parameters could not be estimated\n",
      "  warnings.warn('Covariance of the parameters could not be estimated',\n"
     ]
    },
    {
     "name": "stdout",
     "output_type": "stream",
     "text": [
      "Iteration 50. Relative error: 0.019231013514712698\n",
      "Iteration 100. Relative error: 0.0003577631197924186\n",
      "Iteration 150. Relative error: 6.6504990460273204e-06\n",
      "Total iterations: 174. Relative error: 9.819702755581394e-07\n",
      "Abelian Hamiltonian\n",
      "{'YX-XX-': (-0.7071067811884638+0j), 'XY-XX-': (-0.7071067811884638+0j), 'YXZXXZ': (-1.7071067811846214+0j), 'XYZXXZ': (-1.7071067811846214+0j), 'YX-YY-': (-0.29289321881153635+0j), 'XY-YY-': (-0.29289321881153635+0j), 'YXZYYZ': (0.7071067811846213+0j), 'XYZYYZ': (0.7071067811846213+0j), 'YY-XY-': (-0.7071067811865477+0j), 'XX-XY-': (0.7071067811865477+0j), 'YYZXYZ': (-1.707106781186548+0j), 'XXZXYZ': (1.707106781186548+0j), 'YY-YX-': (0.2928932188134527+0j), 'XX-YX-': (-0.2928932188134527+0j), 'YYZYXZ': (-0.7071067811865478+0j), 'XXZYXZ': (0.7071067811865478+0j)}\n"
     ]
    }
   ],
   "source": [
    "angles, generators, abelian_hamiltonian, test_hamiltonian = optimizer(hamiltonian_dict=hamiltonian_dict,\n",
    "                                                                      algebra_strings=k_strings,\n",
    "                                                                      subalgebra_strings=subalgebra,\n",
    "                                                                      method=\"roto\",\n",
    "                                                                      tol=1e-6,\n",
    "                                                                      coefficient_tol=0\n",
    "                                                                      )\n",
    "print(\"Abelian Hamiltonian\")\n",
    "print_letters(sentence=abelian_hamiltonian)\n",
    "print()"
   ],
   "metadata": {
    "collapsed": false,
    "ExecuteTime": {
     "end_time": "2023-12-21T07:07:34.462225585Z",
     "start_time": "2023-12-21T07:06:57.590111626Z"
    }
   },
   "id": "785e3d5a28bc384"
  },
  {
   "cell_type": "code",
   "execution_count": 4,
   "outputs": [],
   "source": [],
   "metadata": {
    "collapsed": false,
    "ExecuteTime": {
     "end_time": "2023-12-21T07:07:34.462466370Z",
     "start_time": "2023-12-21T07:07:34.459164136Z"
    }
   },
   "id": "2d136cf83a5a31a3"
  }
 ],
 "metadata": {
  "kernelspec": {
   "display_name": "Python 3 (ipykernel)",
   "language": "python",
   "name": "python3"
  },
  "language_info": {
   "codemirror_mode": {
    "name": "ipython",
    "version": 3
   },
   "file_extension": ".py",
   "mimetype": "text/x-python",
   "name": "python",
   "nbconvert_exporter": "python",
   "pygments_lexer": "ipython3",
   "version": "3.11.5"
  }
 },
 "nbformat": 4,
 "nbformat_minor": 5
}
