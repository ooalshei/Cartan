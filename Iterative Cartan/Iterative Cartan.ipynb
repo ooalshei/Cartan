{
 "cells": [
  {
   "cell_type": "code",
   "execution_count": 1,
   "id": "65d96e20-3df7-4c2b-9537-6270a8d5f766",
   "metadata": {},
   "outputs": [],
   "source": [
    "from Cartan import *\n",
    "import scipy.optimize as opt"
   ]
  },
  {
   "cell_type": "code",
   "execution_count": 2,
   "id": "65755af2-061f-4d5a-bbf8-34a8f40afa5d",
   "metadata": {},
   "outputs": [
    {
     "name": "stdout",
     "output_type": "stream",
     "text": [
      "['XX', 'ZI', 'IZ']\n",
      "['XX', 'ZI', 'IZ', 'XY', 'YX', 'YY']\n"
     ]
    }
   ],
   "source": [
    "C=Cartan(2, \"TFIM\")\n",
    "print(Pauli().letters(C.Hamiltonian()))\n",
    "print(Pauli().letters(C.Algebra()[0]))"
   ]
  },
  {
   "cell_type": "code",
   "execution_count": 3,
   "id": "869e5d2a-a00f-4273-b0b1-8993dd3ea303",
   "metadata": {},
   "outputs": [
    {
     "name": "stdout",
     "output_type": "stream",
     "text": [
      "['XY', 'YX']\n",
      "['XX', 'ZI', 'IZ', 'YY']\n",
      "['IZ', 'ZI']\n"
     ]
    }
   ],
   "source": [
    "C=Cartan(2, \"TFIM\")\n",
    "k=C.decomposition()[0]\n",
    "m=C.decomposition()[1]\n",
    "h=C.subalgebra()\n",
    "print(Pauli().letters(k))\n",
    "print(Pauli().letters(m))\n",
    "print(Pauli().letters(h))"
   ]
  },
  {
   "cell_type": "code",
   "execution_count": 4,
   "id": "15cde6fa-76c8-4ed3-8394-c116be165d9e",
   "metadata": {
    "tags": []
   },
   "outputs": [],
   "source": [
    "class angles:\n",
    "    \n",
    "    \n",
    "    def __init__(self, N, model = None):\n",
    "        self.N = N\n",
    "        self.C = Cartan(N, model)\n",
    "        self.H = self.C.Hamiltonian()\n",
    "        self.k = self.C.decomposition()[0]\n",
    "        self.m = self.C.decomposition()[1]\n",
    "        self.h = self.C.subalgebra()\n",
    "        \n",
    "        \n",
    "    def Abelian(self):\n",
    "        \n",
    "        P = Pauli()\n",
    "        b = self.h\n",
    "        i = 0\n",
    "        \n",
    "        while i < len(b):\n",
    "            j = i + 1\n",
    "            \n",
    "            while j < len(b):\n",
    "                \n",
    "                x = ()\n",
    "                for k in range(self.N):\n",
    "                    x += (P.Product(b[i][k], b[j][k]),)\n",
    "\n",
    "                if x in b:\n",
    "                    index = b.index(x)\n",
    "                    b.remove(x)\n",
    "                    \n",
    "                    if index > j:\n",
    "                        j += 1\n",
    "                        \n",
    "                    elif index < i:\n",
    "                        i -= 1\n",
    "\n",
    "                else:\n",
    "                    j += 1\n",
    "\n",
    "            i += 1\n",
    "\n",
    "        return b\n",
    "\n",
    "                \n",
    "                \n",
    "        \n",
    "        \n",
    "    "
   ]
  },
  {
   "cell_type": "code",
   "execution_count": 5,
   "id": "243677c9-e016-4fa5-b6cc-45540923b7e0",
   "metadata": {
    "tags": []
   },
   "outputs": [
    {
     "name": "stdout",
     "output_type": "stream",
     "text": [
      "['IIIXX', 'IIIYY', 'IIIZZ', 'IXXII', 'IYYII', 'IZZII', 'IXXXX', 'IXXYY', 'IXXZZ', 'IYYXX', 'IYYYY', 'IYYZZ', 'IZZXX', 'IZZYY', 'IZZZZ']\n",
      "['IIIXX', 'IIIYY', 'IXXII', 'IYYII']\n"
     ]
    }
   ],
   "source": [
    "print(Pauli().letters(angles(5, \"Heisenberg\").h))\n",
    "print(Pauli().letters(angles(5, \"Heisenberg\").Abelian()))"
   ]
  },
  {
   "cell_type": "code",
   "execution_count": null,
   "id": "22d93352-e1f6-4f87-8235-4e87bb27171d",
   "metadata": {},
   "outputs": [],
   "source": []
  }
 ],
 "metadata": {
  "kernelspec": {
   "display_name": "Python 3 (ipykernel)",
   "language": "python",
   "name": "python3"
  },
  "language_info": {
   "codemirror_mode": {
    "name": "ipython",
    "version": 3
   },
   "file_extension": ".py",
   "mimetype": "text/x-python",
   "name": "python",
   "nbconvert_exporter": "python",
   "pygments_lexer": "ipython3",
   "version": "3.11.4"
  }
 },
 "nbformat": 4,
 "nbformat_minor": 5
}
