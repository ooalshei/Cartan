{
 "cells": [
  {
   "cell_type": "code",
   "execution_count": 2,
   "id": "initial_id",
   "metadata": {
    "ExecuteTime": {
     "end_time": "2023-12-19T08:15:57.436158326Z",
     "start_time": "2023-12-19T08:15:57.376347793Z"
    }
   },
   "outputs": [
    {
     "name": "stdout",
     "output_type": "stream",
     "text": [
      "/home/omar/PycharmProjects/Cartan\n"
     ]
    }
   ],
   "source": [
    "%cd ..\n",
    "from src.pauli_helpers import pauli_operations, cartan_optimizer\n",
    "from src.hamiltonians import involutionless_cartan as inc\n",
    "import numpy as np"
   ]
  },
  {
   "cell_type": "code",
   "execution_count": 3,
   "id": "9c3b0041365b77d4",
   "metadata": {
    "ExecuteTime": {
     "end_time": "2023-12-19T08:15:57.553118207Z",
     "start_time": "2023-12-19T08:15:57.508243878Z"
    },
    "collapsed": false,
    "jupyter": {
     "outputs_hidden": false
    }
   },
   "outputs": [
    {
     "data": {
      "text/plain": [
       "([(1, 1, 0, 0),\n",
       "  (3, 0, 0, 0),\n",
       "  (0, 1, 1, 0),\n",
       "  (0, 3, 0, 0),\n",
       "  (0, 0, 1, 1),\n",
       "  (0, 0, 3, 0),\n",
       "  (0, 0, 0, 3)],\n",
       " [-1, 1, -1, 1, -1, 1, 1])"
      ]
     },
     "execution_count": 3,
     "metadata": {},
     "output_type": "execute_result"
    }
   ],
   "source": [
    "model = \"TFIM\"\n",
    "N = 4\n",
    "H = inc.InvolutionlessCartan(N, model).builder()\n",
    "H"
   ]
  },
  {
   "cell_type": "code",
   "execution_count": 4,
   "id": "7426e6bfd140a6f6",
   "metadata": {
    "ExecuteTime": {
     "end_time": "2023-12-19T08:15:57.673196424Z",
     "start_time": "2023-12-19T08:15:57.628317610Z"
    },
    "collapsed": false,
    "jupyter": {
     "outputs_hidden": false
    }
   },
   "outputs": [
    {
     "data": {
      "text/plain": [
       "[(0, 0, 1, 2),\n",
       " (0, 0, 2, 1),\n",
       " (0, 1, 2, 0),\n",
       " (0, 2, 1, 0),\n",
       " (1, 2, 0, 0),\n",
       " (2, 1, 0, 0),\n",
       " (2, 3, 1, 0),\n",
       " (1, 3, 2, 0),\n",
       " (0, 2, 3, 1),\n",
       " (0, 1, 3, 2),\n",
       " (1, 3, 3, 2),\n",
       " (2, 3, 3, 1)]"
      ]
     },
     "execution_count": 4,
     "metadata": {},
     "output_type": "execute_result"
    }
   ],
   "source": [
    "d=inc.InvolutionlessCartan(N, model).decomposition()\n",
    "d[\"k\"]"
   ]
  },
  {
   "cell_type": "code",
   "execution_count": 5,
   "id": "eb58dcac4293b17",
   "metadata": {
    "ExecuteTime": {
     "end_time": "2023-12-19T08:15:58.169524020Z",
     "start_time": "2023-12-19T08:15:58.166461212Z"
    },
    "collapsed": false,
    "jupyter": {
     "outputs_hidden": false
    }
   },
   "outputs": [
    {
     "name": "stdout",
     "output_type": "stream",
     "text": [
      "[0.5488135  0.71518937 0.60276338 0.54488318 0.4236548  0.64589411\n",
      " 0.43758721 0.891773   0.96366276 0.38344152 0.79172504 0.52889492] {(1, 1, 0, 0): -1, (3, 0, 0, 0): 1, (0, 1, 1, 0): -1, (0, 3, 0, 0): 1, (0, 0, 1, 1): -1, (0, 0, 3, 0): 1, (0, 0, 0, 3): 1} {(0, 0, 0, 3): 0.14159265358979312, (0, 0, 3, 0): 0.4448264403199785, (0, 3, 0, 0): 0.3974634770317429, (3, 0, 0, 0): 0.24866833951317902} [0.14159265358979312, 0.4448264403199785, 0.3974634770317429, 0.24866833951317902]\n"
     ]
    }
   ],
   "source": [
    "Hd = dict(zip(H[0], H[1]))\n",
    "np.random.seed(0)\n",
    "a = np.random.rand(12)\n",
    "x = cartan_optimizer.mut_irr(4)\n",
    "h = pauli_operations.strings_to_dict(d[\"h\"], x)\n",
    "print(a, Hd, h, x)"
   ]
  },
  {
   "cell_type": "code",
   "execution_count": 34,
   "id": "7348790451fc86ed",
   "metadata": {
    "ExecuteTime": {
     "end_time": "2023-12-19T08:16:22.873642934Z",
     "start_time": "2023-12-19T08:16:21.860515878Z"
    },
    "collapsed": false,
    "jupyter": {
     "outputs_hidden": false
    }
   },
   "outputs": [
    {
     "name": "stdout",
     "output_type": "stream",
     "text": [
      "CPU times: user 2.8 s, sys: 24 ms, total: 2.82 s\n",
      "Wall time: 2.79 s\n"
     ]
    },
    {
     "data": {
      "text/plain": [
       "(array([1.3827335 , 0.28913509, 0.94402896, 1.19031724, 1.20486184,\n",
       "        1.81739635, 3.01066778, 2.83465649, 1.35122483, 3.04779518,\n",
       "        2.85245439, 2.11170146]),\n",
       " [(0, 0, 1, 2),\n",
       "  (0, 0, 2, 1),\n",
       "  (0, 1, 2, 0),\n",
       "  (0, 2, 1, 0),\n",
       "  (1, 2, 0, 0),\n",
       "  (2, 1, 0, 0),\n",
       "  (2, 3, 1, 0),\n",
       "  (1, 3, 2, 0),\n",
       "  (0, 2, 3, 1),\n",
       "  (0, 1, 3, 2),\n",
       "  (1, 3, 3, 2),\n",
       "  (2, 3, 3, 1)],\n",
       " {(1, 1, 0, 0): (1.1573643626428697e-06+0j),\n",
       "  (0, 2, 3, 2): (-1.1114366542828686e-06+0j),\n",
       "  (3, 0, 0, 0): (-0.999999999999738+0j),\n",
       "  (0, 0, 0, 3): (-0.3472963553357755+0j),\n",
       "  (2, 3, 3, 2): (-1.2538807401540897e-06+0j),\n",
       "  (0, 2, 2, 0): (-1.9828915735969345e-06+0j),\n",
       "  (0, 0, 2, 2): (-1.786436221381174e-06+0j),\n",
       "  (0, 0, 3, 0): (-1.8793852415577939+0j),\n",
       "  (0, 3, 0, 0): (-1.532088886249325+0j),\n",
       "  (0, 1, 1, 0): (-2.260636132973176e-06+0j)})"
      ]
     },
     "execution_count": 34,
     "metadata": {},
     "output_type": "execute_result"
    }
   ],
   "source": [
    "%%time\n",
    "cartan_optimizer.cartan_optimizer(Hd, d[\"k\"], h, tol=1e-6)"
   ]
  },
  {
   "cell_type": "code",
   "execution_count": 6,
   "id": "76c67619e8c29894",
   "metadata": {
    "ExecuteTime": {
     "end_time": "2023-12-19T08:13:29.343582662Z",
     "start_time": "2023-12-19T08:13:29.340598294Z"
    },
    "collapsed": false,
    "jupyter": {
     "outputs_hidden": false
    }
   },
   "outputs": [
    {
     "data": {
      "text/plain": [
       "{(0, 0, 0, 3): 0.14159265358979312,\n",
       " (0, 0, 3, 0): 0.4448264403199785,\n",
       " (0, 3, 0, 0): 0.3974634770317429,\n",
       " (3, 0, 0, 0): 0.24866833951317902}"
      ]
     },
     "execution_count": 6,
     "metadata": {},
     "output_type": "execute_result"
    }
   ],
   "source": [
    "h"
   ]
  },
  {
   "cell_type": "code",
   "execution_count": 7,
   "id": "9fb28d573de26375",
   "metadata": {
    "ExecuteTime": {
     "end_time": "2023-12-19T08:13:36.407270212Z",
     "start_time": "2023-12-19T08:13:36.404572795Z"
    },
    "collapsed": false,
    "jupyter": {
     "outputs_hidden": false
    }
   },
   "outputs": [
    {
     "data": {
      "text/plain": [
       "{(0, 0, 0, 3): (-0.004380386978844741+0j),\n",
       " (0, 0, 1, 1): (0.050773608476447706+0j),\n",
       " (0, 0, 2, 2): (0.07478976489814171+0j),\n",
       " (0, 0, 3, 0): (0.26201101476186084+0j),\n",
       " (0, 2, 3, 2): (-0.2884643259112417+0j),\n",
       " (0, 2, 2, 0): (0.07434560099335902+0j),\n",
       " (2, 3, 3, 2): (0.07574228522889125+0j),\n",
       " (2, 3, 2, 0): (0.2409059303200719+0j),\n",
       " (0, 1, 3, 1): (-0.1788636638205708+0j),\n",
       " (0, 1, 1, 0): (0.07150158299181336+0j),\n",
       " (1, 3, 3, 1): (0.09852593457414249+0j),\n",
       " (1, 3, 1, 0): (0.26011069437209117+0j),\n",
       " (0, 3, 0, 0): (0.1592688460702673+0j),\n",
       " (1, 1, 0, 0): (0.23885584595051207+0j),\n",
       " (2, 2, 0, 0): (0.002396399286198038+0j),\n",
       " (3, 0, 0, 0): (-0.10717384310734415+0j)}"
      ]
     },
     "execution_count": 7,
     "metadata": {},
     "output_type": "execute_result"
    }
   ],
   "source": [
    "pauli_operations.exp_conjugation(d[\"k\"], a, h)"
   ]
  },
  {
   "cell_type": "code",
   "execution_count": null,
   "id": "ed45e87a3c687c67",
   "metadata": {
    "collapsed": false,
    "jupyter": {
     "outputs_hidden": false
    }
   },
   "outputs": [],
   "source": []
  }
 ],
 "metadata": {
  "kernelspec": {
   "display_name": "Python 3 (ipykernel)",
   "language": "python",
   "name": "python3"
  },
  "language_info": {
   "codemirror_mode": {
    "name": "ipython",
    "version": 3
   },
   "file_extension": ".py",
   "mimetype": "text/x-python",
   "name": "python",
   "nbconvert_exporter": "python",
   "pygments_lexer": "ipython3",
   "version": "3.11.5"
  }
 },
 "nbformat": 4,
 "nbformat_minor": 5
}
